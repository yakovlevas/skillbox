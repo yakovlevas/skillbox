{
 "cells": [
  {
   "cell_type": "markdown",
   "metadata": {
    "id": "sjq5kMV-27ON"
   },
   "source": [
    "## Нахождение коэффициентов полиномов аналитически. Решение практики\n",
    "\n",
    "Для закрепления пройденного материала найдите коэффициенты функции для данного набора точек, и затем проверьте с помощью подстановки, правильный ли у вас получился результат. Степень полинома для составления системы выберите сами, исходя из пройденного в первом уроке правила.\n",
    "\n",
    "1. $(-2.5, 15.0), (-2, 10), (-1.5, 7.0)$\n",
    "2. $(-0.5, -15.0), (-1, -31), (0, -7), (0.5, -4.0)$\n"
   ]
  },
  {
   "cell_type": "code",
   "execution_count": null,
   "metadata": {
    "id": "7ZFrXOG91dY7"
   },
   "outputs": [],
   "source": [
    "from sympy import *\n",
    "from sympy.plotting import plot\n",
    "init_printing(use_unicode=False, wrap_line=False, no_global=True)"
   ]
  },
  {
   "cell_type": "markdown",
   "metadata": {
    "id": "cTmcVvvP1dZ3"
   },
   "source": [
    "## 2 \n",
    "\n",
    "В практике к предыдущему уроку вам было нужно найти коэффициенты интерполяционной функции аналитически с помощью sympy. Думаю, вы заметили, что это сделать проще и точно менее муторно, чем подбирать вручную.\n",
    "\t<br><br>Давайте решим задачу интерполяции более сложную с набором из четырех точек. Составим систему уравнений:<br>\n",
    "\n",
    "![](https://sun9-58.userapi.com/c858324/v858324113/13bf8b/ZzYguAcWrzk.jpg)<br><br>\n",
    "Раскроем скобки во всех уравнениях и перенесем все в левую часть:<br>\n",
    "\n",
    "![](https://sun9-64.userapi.com/c858324/v858324113/13bf92/H23F9AfVyg0.jpg) <br><br>\n",
    "\n",
    "Теперь мы можем задействовать sympy. Создадим переменные для коэффициентов и зададим левые части наших уравнений:\n",
    "\n"
   ]
  },
  {
   "cell_type": "code",
   "execution_count": null,
   "metadata": {
    "id": "oPStTje01dZ3"
   },
   "outputs": [],
   "source": [
    "a3, a2, a1, a0 = symbols('a3,a2,a1,a0')"
   ]
  },
  {
   "cell_type": "code",
   "execution_count": null,
   "metadata": {
    "id": "nNBkugf41dZ6"
   },
   "outputs": [],
   "source": [
    "# (-0.5, -15.0), (-1, -31), (0, -7), (0.5, -4.0)\n",
    "\n",
    "eq1_lp = -0.125*a3 + 0.25*a2 - 0.5*a1 + a0 + 15\n",
    "eq2_lp = -a3 + a2 - a1 + a0 + 31\n",
    "eq3_lp = a0 + 7\n",
    "eq4_lp = 0.125*a3 + 0.25*a2 + 0.5*a1 + a0 + 4"
   ]
  },
  {
   "cell_type": "markdown",
   "metadata": {
    "id": "irmcVTYv6VDW"
   },
   "source": [
    "Теперь используем функцию nonlinsolve для решения нашей системы:\n"
   ]
  },
  {
   "cell_type": "code",
   "execution_count": null,
   "metadata": {
    "id": "7AkXCrSP1dZ9",
    "outputId": "db9544ff-b635-4f8d-9e24-051bd6268b0e"
   },
   "outputs": [
    {
     "data": {
      "image/png": "[encoded data removed]",
      "text/latex": [
       "$\\displaystyle \\left\\{\\left( 4.0, \\  -10.0, \\  10.0, \\  -7.0\\right)\\right\\}$"
      ],
      "text/plain": [
       "{(4.0, -10.0, 10.0, -7.0)}"
      ]
     },
     "execution_count": 4,
     "metadata": {
      "tags": []
     },
     "output_type": "execute_result"
    }
   ],
   "source": [
    "nonlinsolve([eq1_lp, eq2_lp, eq3_lp, eq4_lp], [a3, a2, a1, a0])"
   ]
  },
  {
   "cell_type": "markdown",
   "metadata": {
    "id": "Fe8qoNcD6Z99"
   },
   "source": [
    "Отлично, мы получили значения коэффициентов. Можно вспомнить, что это та самая кубическая парабола, которую вы подбирали в практике к предыдущему уроку. Давайте проверим, все ли правильно, подставив значения.<br><br>\n",
    "\tСоздадим функцию:\n"
   ]
  },
  {
   "cell_type": "code",
   "execution_count": null,
   "metadata": {
    "id": "nu1nR7-X1daA",
    "outputId": "4902ffeb-3b51-436d-ba9c-b6a8b834d77b"
   },
   "outputs": [
    {
     "data": {
      "image/png": "[encoded data removed]",
      "text/latex": [
       "$\\displaystyle 4 x^{3} - 10 x^{2} + 10 x - 7$"
      ],
      "text/plain": [
       "   3       2           \n",
       "4*x  - 10*x  + 10*x - 7"
      ]
     },
     "execution_count": 5,
     "metadata": {
      "tags": []
     },
     "output_type": "execute_result"
    }
   ],
   "source": [
    "x = Symbol('x')\n",
    "f = 4*x**3 - 10*x**2 + 10*x -7\n",
    "f"
   ]
  },
  {
   "cell_type": "markdown",
   "metadata": {
    "id": "xoWQUh9g6fb9"
   },
   "source": [
    "И подставим в нее значения для наших точек:\n"
   ]
  },
  {
   "cell_type": "code",
   "execution_count": null,
   "metadata": {
    "id": "RmFQwAo21daE",
    "outputId": "62ea60ee-f178-4f16-d68a-37630d82fa6e"
   },
   "outputs": [
    {
     "data": {
      "image/png": "[encoded data removed]",
      "text/plain": [
       "<Figure size 432x288 with 1 Axes>"
      ]
     },
     "metadata": {
      "needs_background": "light",
      "tags": []
     },
     "output_type": "display_data"
    },
    {
     "data": {
      "text/plain": [
       "<sympy.plotting.plot.Plot at 0x11ae3a9e8>"
      ]
     },
     "execution_count": 7,
     "metadata": {
      "tags": []
     },
     "output_type": "execute_result"
    }
   ],
   "source": [
    "plot(f)"
   ]
  },
  {
   "cell_type": "code",
   "execution_count": null,
   "metadata": {
    "id": "ZgVjTO-r1daH",
    "outputId": "ed447021-9e82-48c4-c16a-cdc6474ecb98"
   },
   "outputs": [
    {
     "data": {
      "image/png": "[encoded data removed]",
      "text/latex": [
       "$\\displaystyle -15.0$"
      ],
      "text/plain": [
       "-15.0000000000000"
      ]
     },
     "execution_count": 8,
     "metadata": {
      "tags": []
     },
     "output_type": "execute_result"
    }
   ],
   "source": [
    "f.subs(x, -0.5)"
   ]
  },
  {
   "cell_type": "code",
   "execution_count": null,
   "metadata": {
    "id": "Buk_8lxx1daL",
    "outputId": "6a71dab5-f1f2-4e8f-ebc3-3be1184b9a43"
   },
   "outputs": [
    {
     "data": {
      "image/png": "[encoded data removed]",
      "text/latex": [
       "$\\displaystyle -31$"
      ],
      "text/plain": [
       "-31"
      ]
     },
     "execution_count": 9,
     "metadata": {
      "tags": []
     },
     "output_type": "execute_result"
    }
   ],
   "source": [
    "f.subs(x, -1)"
   ]
  },
  {
   "cell_type": "code",
   "execution_count": null,
   "metadata": {
    "id": "qkLzM7oV1daO",
    "outputId": "3cf20a29-dd65-40e7-ba05-bf0f34cac353"
   },
   "outputs": [
    {
     "data": {
      "image/png": "[encoded data removed]",
      "text/latex": [
       "$\\displaystyle -7$"
      ],
      "text/plain": [
       "-7"
      ]
     },
     "execution_count": 10,
     "metadata": {
      "tags": []
     },
     "output_type": "execute_result"
    }
   ],
   "source": [
    "f.subs(x, 0)"
   ]
  },
  {
   "cell_type": "code",
   "execution_count": null,
   "metadata": {
    "id": "jsQq9y9d1daR",
    "outputId": "467e2091-bfc8-42f9-a6a1-9c3fb5cbb43b"
   },
   "outputs": [
    {
     "data": {
      "image/png": "[encoded data removed]",
      "text/latex": [
       "$\\displaystyle -4.0$"
      ],
      "text/plain": [
       "-4.00000000000000"
      ]
     },
     "execution_count": 11,
     "metadata": {
      "tags": []
     },
     "output_type": "execute_result"
    }
   ],
   "source": [
    "f.subs(x, 0.5)"
   ]
  },
  {
   "cell_type": "markdown",
   "metadata": {
    "id": "M2Qzl0pR6lH5"
   },
   "source": [
    "Все верно. Аналогично решается первый пункт. Код представлен ниже."
   ]
  },
  {
   "cell_type": "markdown",
   "metadata": {
    "id": "GHyHwyCI1dZK"
   },
   "source": [
    "# 1"
   ]
  },
  {
   "cell_type": "code",
   "execution_count": null,
   "metadata": {
    "id": "heNsNAJK1dZO"
   },
   "outputs": [],
   "source": [
    "a2, a1, a0 = symbols('a2, a1, a0')"
   ]
  },
  {
   "cell_type": "code",
   "execution_count": null,
   "metadata": {
    "id": "hVfXQWqZ1dZY",
    "outputId": "5427c1ef-bbbd-4bbb-9732-968cb759dd2f"
   },
   "outputs": [
    {
     "data": {
      "image/png": "[encoded data removed]",
      "text/latex": [
       "$\\displaystyle \\left\\{\\left( 4.0, \\  8.00000000000002, \\  10.0\\right)\\right\\}$"
      ],
      "text/plain": [
       "{(4.0, 8.00000000000002, 10.0)}"
      ]
     },
     "execution_count": 4,
     "metadata": {
      "tags": []
     },
     "output_type": "execute_result"
    }
   ],
   "source": [
    "# (-2.5, 15.0), (-2, 10), (-1.5, 7.0)\n",
    "\n",
    "eq1_lp = (-2.5)**2*a2 + (-2.5)*a1 + a0 - 15\n",
    "eq2_lp =   (-2)**2*a2 +   (-2)*a1 + a0 - 10\n",
    "eq3_lp = (-1.5)**2*a2 + (-1.5)*a1 + a0 - 7\n",
    "\n",
    "nonlinsolve([eq1_lp, eq2_lp, eq3_lp], [a2, a1, a0])"
   ]
  },
  {
   "cell_type": "code",
   "execution_count": null,
   "metadata": {
    "id": "ILwRwHvm1dZi",
    "outputId": "741174f1-58a9-45cd-e368-b59f6231488b"
   },
   "outputs": [
    {
     "data": {
      "image/png": "[encoded data removed]",
      "text/latex": [
       "$\\displaystyle 4 x^{2} + 8 x + 10$"
      ],
      "text/plain": [
       "   2           \n",
       "4*x  + 8*x + 10"
      ]
     },
     "execution_count": 15,
     "metadata": {
      "tags": []
     },
     "output_type": "execute_result"
    }
   ],
   "source": [
    "x = Symbol('x')\n",
    "f = 4*x**2 + 8*x + 10\n",
    "f"
   ]
  },
  {
   "cell_type": "code",
   "execution_count": null,
   "metadata": {
    "id": "rjQGG7Y51dZp",
    "outputId": "9af98da7-d8b8-4ad3-8878-7350e0de5da9"
   },
   "outputs": [
    {
     "data": {
      "image/png": "[encoded data removed]",
      "text/plain": [
       "<Figure size 432x288 with 1 Axes>"
      ]
     },
     "metadata": {
      "needs_background": "light",
      "tags": []
     },
     "output_type": "display_data"
    },
    {
     "data": {
      "text/plain": [
       "<sympy.plotting.plot.Plot at 0x11e5efdd8>"
      ]
     },
     "execution_count": 16,
     "metadata": {
      "tags": []
     },
     "output_type": "execute_result"
    }
   ],
   "source": [
    "plot(f, (x, -5, 5))"
   ]
  },
  {
   "cell_type": "code",
   "execution_count": null,
   "metadata": {
    "id": "yv1qjJYH1dZu",
    "outputId": "bb1fa40a-4b59-4b63-eeb8-f574c7d5bcc2"
   },
   "outputs": [
    {
     "data": {
      "image/png": "[encoded data removed]",
      "text/latex": [
       "$\\displaystyle 15.0$"
      ],
      "text/plain": [
       "15.0000000000000"
      ]
     },
     "execution_count": 17,
     "metadata": {
      "tags": []
     },
     "output_type": "execute_result"
    }
   ],
   "source": [
    "f.subs(x, -2.5)"
   ]
  },
  {
   "cell_type": "code",
   "execution_count": null,
   "metadata": {
    "id": "rBERJza01dZw",
    "outputId": "85614dc3-935a-4560-a97a-91e4dd963667"
   },
   "outputs": [
    {
     "data": {
      "image/png": "[encoded data removed]",
      "text/latex": [
       "$\\displaystyle 10$"
      ],
      "text/plain": [
       "10"
      ]
     },
     "execution_count": 18,
     "metadata": {
      "tags": []
     },
     "output_type": "execute_result"
    }
   ],
   "source": [
    "f.subs(x, -2)"
   ]
  },
  {
   "cell_type": "code",
   "execution_count": null,
   "metadata": {
    "id": "AdBMHiJw1dZ0",
    "outputId": "0e616722-5a2f-4966-f541-d59ccc2c687e"
   },
   "outputs": [
    {
     "data": {
      "image/png": "[encoded data removed]",
      "text/latex": [
       "$\\displaystyle 7.0$"
      ],
      "text/plain": [
       "7.00000000000000"
      ]
     },
     "execution_count": 19,
     "metadata": {
      "tags": []
     },
     "output_type": "execute_result"
    }
   ],
   "source": [
    "f.subs(x, -1.5)"
   ]
  }
 ],
 "metadata": {
  "colab": {
   "collapsed_sections": [],
   "name": "Нахождение коэффициентов полиномов аналитически. Решение практики.ipynb",
   "provenance": []
  },
  "kernelspec": {
   "display_name": "Python 3",
   "language": "python",
   "name": "python3"
  },
  "language_info": {
   "codemirror_mode": {
    "name": "ipython",
    "version": 3
   },
   "file_extension": ".py",
   "mimetype": "text/x-python",
   "name": "python",
   "nbconvert_exporter": "python",
   "pygments_lexer": "ipython3",
   "version": "3.8.5"
  }
 },
 "nbformat": 4,
 "nbformat_minor": 1
}
