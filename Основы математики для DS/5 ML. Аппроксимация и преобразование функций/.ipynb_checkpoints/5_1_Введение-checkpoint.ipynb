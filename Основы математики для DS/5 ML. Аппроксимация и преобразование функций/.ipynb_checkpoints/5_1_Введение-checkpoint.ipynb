{
 "cells": [
  {
   "cell_type": "code",
   "execution_count": 1,
   "metadata": {
    "id": "ne4nQ4fkvbM3"
   },
   "outputs": [],
   "source": [
    "from sympy import *\n",
    "from sympy.plotting import plot\n",
    "from sympy.solvers.inequalities import solve_univariate_inequality\n",
    "init_printing(use_unicode=False, wrap_line=False, no_global=True)"
   ]
  },
  {
   "cell_type": "code",
   "execution_count": 2,
   "metadata": {
    "id": "ipY-PYHZvbNC"
   },
   "outputs": [],
   "source": [
    "a5, a4, a3, a2, a1, a0 = symbols('a5, a4, a3, a2, a1, a0')"
   ]
  },
  {
   "cell_type": "code",
   "execution_count": 3,
   "metadata": {
    "id": "H2j5OQfyvbNG"
   },
   "outputs": [],
   "source": [
    "eq1_lp = (-3)**5*a5 + (-3)**4*a4 + (-3)**3*a3 + (-3)**2*a2 + (-3)*a1 + a0 - 33 \n",
    "eq2_lp = (-2)**5*a5 + (-2)**4*a4 + (-2)**3*a3 + (-2)**2*a2 + (-2)*a1 + a0 - 31  \n",
    "eq3_lp = (-1)**5*a5 + (-1)**4*a4 + (-1)**3*a3 + (-1)**2*a2 + (-1)*a1 + a0 - 18 \n",
    "eq4_lp =  (1)**5*a5 +  (1)**4*a4 +  (1)**3*a3 +  (1)**2*a2 +  (1)*a1 + a0 + 18 \n",
    "eq5_lp =  (2)**5*a5 +  (2)**4*a4 +  (2)**3*a3 +  (2)**2*a2 +  (2)*a1 + a0 + 31 \n",
    "eq6_lp =  (3)**5*a5 +  (3)**4*a4 +  (3)**3*a3 +  (3)**2*a2 +  (3)*a1 + a0 + 33 "
   ]
  },
  {
   "cell_type": "code",
   "execution_count": 4,
   "metadata": {
    "id": "xz2UWgm3vbNL",
    "outputId": "c412842c-f320-47e7-b4fc-84d57a182ac8"
   },
   "outputs": [
    {
     "data": {
      "image/png": "[encoded data removed]",
      "text/latex": [
       "$\\displaystyle \\left\\{\\left( \\frac{1}{120}, \\  0, \\  \\frac{19}{24}, \\  0, \\  - \\frac{94}{5}, \\  0\\right)\\right\\}$"
      ],
      "text/plain": [
       "            19               \n",
       "{(1/120, 0, --, 0, -94/5, 0)}\n",
       "            24               "
      ]
     },
     "execution_count": 4,
     "metadata": {},
     "output_type": "execute_result"
    }
   ],
   "source": [
    "nonlinsolve([eq1_lp, eq2_lp, eq3_lp, eq4_lp, eq5_lp, eq6_lp], [a5, a4, a3, a2, a1, a0])"
   ]
  },
  {
   "cell_type": "code",
   "execution_count": 5,
   "metadata": {
    "id": "mYZw-IBHvbNQ"
   },
   "outputs": [],
   "source": [
    "import matplotlib.pyplot as plt\n",
    "import numpy as np"
   ]
  },
  {
   "cell_type": "code",
   "execution_count": 6,
   "metadata": {
    "id": "gTk8e_0dvbNY",
    "outputId": "7d2760bc-926e-4d66-b080-5f027f4268ff"
   },
   "outputs": [
    {
     "data": {
      "image/png": "[encoded data removed]",
      "text/plain": [
       "<Figure size 432x288 with 1 Axes>"
      ]
     },
     "metadata": {
      "needs_background": "light"
     },
     "output_type": "display_data"
    }
   ],
   "source": [
    "points_X = [-3, -2, -1, 1, 2, 3]\n",
    "points_Y = [33, 31, 18, -18, -31, -33]\n",
    "\n",
    "X = np.arange(-5, 5, 0.01)\n",
    "Y = [1/120 * x**5 + 19/24 * x**3 - 94/5 * x for x in X]\n",
    "\n",
    "plt.scatter(points_X, points_Y, c='r')\n",
    "plt.plot(X, Y, 'b')\n",
    "plt.show()"
   ]
  },
  {
   "cell_type": "code",
   "execution_count": 7,
   "metadata": {
    "id": "WGoEnXCQvbNh",
    "outputId": "ef4c8275-1cb3-4307-ae07-bf1e0f1a9466"
   },
   "outputs": [
    {
     "data": {
      "image/png": "[encoded data removed]",
      "text/latex": [
       "$\\displaystyle 0.00833333333333333 x^{5} + 0.791666666666667 x^{3} - 18.8 x$"
      ],
      "text/plain": [
       "                     5                      3         \n",
       "0.00833333333333333*x  + 0.791666666666667*x  - 18.8*x"
      ]
     },
     "execution_count": 7,
     "metadata": {},
     "output_type": "execute_result"
    }
   ],
   "source": [
    "x = Symbol('x')\n",
    "f = 1/120 * x**5 + 19/24 * x**3 - 94/5 * x \n",
    "f"
   ]
  },
  {
   "cell_type": "code",
   "execution_count": 8,
   "metadata": {
    "id": "MaWC2ECBvbNl",
    "outputId": "976e3dda-396c-4b3e-adb1-ea3fb69ad500"
   },
   "outputs": [
    {
     "data": {
      "image/png": "[encoded data removed]",
      "text/latex": [
       "$\\displaystyle 18.0$"
      ],
      "text/plain": [
       "18.0000000000000"
      ]
     },
     "execution_count": 8,
     "metadata": {},
     "output_type": "execute_result"
    }
   ],
   "source": [
    "f.subs(x, -1)"
   ]
  },
  {
   "cell_type": "code",
   "execution_count": 9,
   "metadata": {
    "id": "qGZWJX_NvbNq",
    "outputId": "cf2a3003-0a18-491d-ac76-791934fa1491"
   },
   "outputs": [
    {
     "data": {
      "image/png": "[encoded data removed]",
      "text/latex": [
       "$\\displaystyle -18.0$"
      ],
      "text/plain": [
       "-18.0000000000000"
      ]
     },
     "execution_count": 9,
     "metadata": {},
     "output_type": "execute_result"
    }
   ],
   "source": [
    "f.subs(x, 1)"
   ]
  },
  {
   "cell_type": "code",
   "execution_count": 10,
   "metadata": {
    "id": "yZdCihN8vbNu",
    "outputId": "9c1b4e86-ea9e-44e6-d86e-12695951f17e"
   },
   "outputs": [
    {
     "data": {
      "image/png": "[encoded data removed]",
      "text/latex": [
       "$\\displaystyle -84123120.0$"
      ],
      "text/plain": [
       "-84123120.0000000"
      ]
     },
     "execution_count": 10,
     "metadata": {},
     "output_type": "execute_result"
    }
   ],
   "source": [
    "f.subs(x, -100)"
   ]
  },
  {
   "cell_type": "code",
   "execution_count": 11,
   "metadata": {
    "id": "O0z3bFJAvbN2",
    "outputId": "a6726e33-ef81-49c8-bc00-a7a2cc323ed7"
   },
   "outputs": [
    {
     "data": {
      "image/png": "[encoded data removed]",
      "text/latex": [
       "$\\displaystyle 84123120.0$"
      ],
      "text/plain": [
       "84123120.0000000"
      ]
     },
     "execution_count": 11,
     "metadata": {},
     "output_type": "execute_result"
    }
   ],
   "source": [
    "f.subs(x, 100)"
   ]
  },
  {
   "cell_type": "code",
   "execution_count": 12,
   "metadata": {
    "id": "uRl2F0iCvbN6",
    "outputId": "05339c68-2808-4905-a772-fb39a4691bf5"
   },
   "outputs": [
    {
     "data": {
      "image/png": "[encoded data removed]",
      "text/latex": [
       "$\\displaystyle \\left[ -4.43545751638198, \\  0.0, \\  4.43545751638198, \\  - 10.7085612189327 i, \\  10.7085612189327 i\\right]$"
      ],
      "text/plain": [
       "[-4.43545751638198, 0.0, 4.43545751638198, -10.7085612189327*I, 10.7085612189327*I]"
      ]
     },
     "execution_count": 12,
     "metadata": {},
     "output_type": "execute_result"
    }
   ],
   "source": [
    "solve(f)"
   ]
  },
  {
   "cell_type": "code",
   "execution_count": 13,
   "metadata": {
    "id": "1_CRLxDtvbN_",
    "outputId": "79c8d923-9e89-495a-b50c-ee0f5787b917"
   },
   "outputs": [
    {
     "data": {
      "image/png": "[encoded data removed]",
      "text/latex": [
       "$\\displaystyle \\left(-4.43545751638198 < x \\wedge x < 0\\right) \\vee \\left(4.43545751638198 < x \\wedge x < \\infty\\right)$"
      ],
      "text/plain": [
       "Or(And(-4.43545751638198 < x, x < 0), And(4.43545751638198 < x, x < oo))"
      ]
     },
     "execution_count": 13,
     "metadata": {},
     "output_type": "execute_result"
    }
   ],
   "source": [
    "solve_univariate_inequality(f > 0, x)"
   ]
  },
  {
   "cell_type": "code",
   "execution_count": 14,
   "metadata": {
    "id": "vMnFO9jAvbOD",
    "outputId": "90bfe2e0-a95d-4881-8487-40d0992d7c9f"
   },
   "outputs": [
    {
     "data": {
      "image/png": "[encoded data removed]",
      "text/latex": [
       "$\\displaystyle \\left(-\\infty < x \\wedge x < -4.43545751638198\\right) \\vee \\left(0 < x \\wedge x < 4.43545751638198\\right)$"
      ],
      "text/plain": [
       "Or(And(-oo < x, x < -4.43545751638198), And(0 < x, x < 4.43545751638198))"
      ]
     },
     "execution_count": 14,
     "metadata": {},
     "output_type": "execute_result"
    }
   ],
   "source": [
    "solve_univariate_inequality(f < 0, x)"
   ]
  },
  {
   "cell_type": "code",
   "execution_count": null,
   "metadata": {},
   "outputs": [],
   "source": []
  },
  {
   "cell_type": "code",
   "execution_count": null,
   "metadata": {},
   "outputs": [],
   "source": []
  }
 ],
 "metadata": {
  "colab": {
   "name": "5.1 Введение.ipynb",
   "provenance": []
  },
  "kernelspec": {
   "display_name": "Python 3",
   "language": "python",
   "name": "python3"
  },
  "language_info": {
   "codemirror_mode": {
    "name": "ipython",
    "version": 3
   },
   "file_extension": ".py",
   "mimetype": "text/x-python",
   "name": "python",
   "nbconvert_exporter": "python",
   "pygments_lexer": "ipython3",
   "version": "3.8.5"
  }
 },
 "nbformat": 4,
 "nbformat_minor": 1
}
