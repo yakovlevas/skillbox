{
 "cells": [
  {
   "cell_type": "markdown",
   "metadata": {
    "id": "-zOqnEVGugHU"
   },
   "source": [
    "# Блок 1.\n",
    "\n",
    "С помощью symPy найдите полиномы, описывающие данные наборы точек. Затем проведите полное исследование каждого полученного полинома: проверьте четность/нечетность, найдите нули, промежутки знакопостоянства. Постройте их графики. С помощью изменения промежутка для х добейтесь того, чтобы все нули были отображены на графике функции. <br><br><br>\n",
    "а) $(-4; -4268), (-3; -1227), (-1; -17), (1; 17), (3; 1227), (4; 4268)$<br><br>\n",
    "б)$ (-4; -16729), (-3; -3999), (-1; 5), (1; 1), (3; 4005), (4; 16735)$\n"
   ]
  },
  {
   "cell_type": "code",
   "execution_count": 1,
   "metadata": {
    "id": "mO8e_U97uxvk"
   },
   "outputs": [],
   "source": [
    "from sympy import *\n",
    "\n",
    "a0, a1, a2, a3, a4, a5 = symbols('a0, a1, a2, a3, a4, a5')"
   ]
  },
  {
   "cell_type": "markdown",
   "metadata": {
    "id": "4jCUKC9CuyKO"
   },
   "source": [
    "# Блок 2."
   ]
  },
  {
   "cell_type": "code",
   "execution_count": 2,
   "metadata": {
    "id": "5ElcKCqet0wk"
   },
   "outputs": [],
   "source": [
    "from sympy import *\n",
    "from sympy.plotting import plot\n",
    "init_printing(use_unicode=False, wrap_line=False, no_global=True)"
   ]
  },
  {
   "cell_type": "code",
   "execution_count": 3,
   "metadata": {
    "id": "QwTY4Sq8t0w2"
   },
   "outputs": [],
   "source": [
    "import matplotlib.pyplot as plt\n",
    "import numpy as np"
   ]
  },
  {
   "cell_type": "code",
   "execution_count": 4,
   "metadata": {
    "id": "Y0t8k28Jt0xG"
   },
   "outputs": [],
   "source": [
    "x = Symbol('x')"
   ]
  },
  {
   "cell_type": "markdown",
   "metadata": {
    "id": "wLhMVWF9t0xQ"
   },
   "source": [
    "## 1.\n",
    "### Получите значение MSE меньшее 5."
   ]
  },
  {
   "cell_type": "code",
   "execution_count": 5,
   "metadata": {
    "id": "LX3-aD49t0xU"
   },
   "outputs": [],
   "source": [
    "def print_points_ands_function1(sympy_function):\n",
    "    def function(x_): return float(sympy_function.subs(x, x_))\n",
    "    \n",
    "    points_X = np.array([-2, -1, 0, 1, 2, 3, 3.5, 4, 4.5, 5])\n",
    "    points_Y = np.array([2, -4, 1, 8, 21, 40, 47, 65, 75, 92])\n",
    "    plt.xlim(-6, 10)\n",
    "    plt.ylim(-1, 100)\n",
    "    \n",
    "    plt.scatter(points_X, points_Y, c='r')\n",
    "    x_range = np.linspace(plt.xlim()[0], plt.xlim()[1], num=100)\n",
    "    function_Y = [function(x_) for x_ in x_range]\n",
    "    plt.plot(x_range, function_Y, 'b')\n",
    "    plt.show()\n",
    "    \n",
    "    MSE = sum([(points_Y[i] - function(points_X[i]))**2 for i in range(len(points_Y))]) / len(points_Y)\n",
    "    print(f'MSE = {MSE}')"
   ]
  },
  {
   "cell_type": "code",
   "execution_count": 75,
   "metadata": {
    "id": "tCcjAV0qt0xb",
    "outputId": "7d73b65e-59f0-4d31-c914-f97d7da81900"
   },
   "outputs": [],
   "source": [
    "f1 = 2.8 * x**2 - 7 * x + 4\n",
    "f1=f1.subs(x, x+2)"
   ]
  },
  {
   "cell_type": "code",
   "execution_count": 76,
   "metadata": {
    "id": "VQwDN4XLt0xl",
    "outputId": "a46d8327-06b3-4fbc-fa5d-6a1e4648a22e"
   },
   "outputs": [
    {
     "data": {
      "image/png": "[encoded data removed]",
      "text/plain": [
       "<Figure size 432x288 with 1 Axes>"
      ]
     },
     "metadata": {
      "needs_background": "light"
     },
     "output_type": "display_data"
    },
    {
     "name": "stdout",
     "output_type": "stream",
     "text": [
      "MSE = 3.791999999999992\n"
     ]
    }
   ],
   "source": [
    "print_points_ands_function1(f1)"
   ]
  },
  {
   "cell_type": "markdown",
   "metadata": {
    "id": "HRrtO4Lyt0xt"
   },
   "source": [
    "## 2.\n",
    "### Получите значение MSE меньшее 35."
   ]
  },
  {
   "cell_type": "code",
   "execution_count": 79,
   "metadata": {
    "id": "dm_YVXYgt0xw"
   },
   "outputs": [],
   "source": [
    "def print_points_ands_function2(sympy_function):\n",
    "    def function(x_): return float(sympy_function.subs(x, x_))\n",
    "    \n",
    "    points_X = np.array([-2, -1, 0, 1, 2, 3, 3.5, 4, 4.5, 5])\n",
    "    points_Y = np.array([-31, -9, 4, -1, 9, 24, 47, 92, 120, 170])\n",
    "    plt.xlim(-3, 6)\n",
    "    plt.ylim(-35, 200)\n",
    "    \n",
    "    plt.scatter(points_X, points_Y, c='r')\n",
    "    x_range = np.linspace(plt.xlim()[0], plt.xlim()[1], num=100)\n",
    "    function_Y = [function(x_) for x_ in x_range]\n",
    "    plt.plot(x_range, function_Y, 'b')\n",
    "    plt.show()\n",
    "    \n",
    "    MSE = sum([(points_Y[i] - function(points_X[i]))**2 for i in range(len(points_Y))]) / len(points_Y)\n",
    "    print(f'MSE = {MSE}')"
   ]
  },
  {
   "cell_type": "code",
   "execution_count": 170,
   "metadata": {
    "id": "7LMQiJDKt0x1",
    "outputId": "8b8d6fed-a7c9-4a8d-c9f8-9ace332dd838"
   },
   "outputs": [],
   "source": [
    "f2 = 1.4 * x**3 + 10* x**2 + 40 * x + 72\n",
    "f2=f2.subs(x,x-3)"
   ]
  },
  {
   "cell_type": "code",
   "execution_count": 171,
   "metadata": {
    "id": "SjwUXoCXt0x6",
    "outputId": "a5e8c7e9-602e-430b-acd3-c8c5bd2b055e"
   },
   "outputs": [
    {
     "data": {
      "image/png": "[encoded data removed]",
      "text/plain": [
       "<Figure size 432x288 with 1 Axes>"
      ]
     },
     "metadata": {
      "needs_background": "light"
     },
     "output_type": "display_data"
    },
    {
     "name": "stdout",
     "output_type": "stream",
     "text": [
      "MSE = 1023.5506249999999\n"
     ]
    }
   ],
   "source": [
    "print_points_ands_function2(f2)"
   ]
  },
  {
   "cell_type": "markdown",
   "metadata": {
    "id": "xYJNX-nUt0x_"
   },
   "source": [
    "## 3.\n",
    "### Получите значение MSE меньшее 3300."
   ]
  },
  {
   "cell_type": "code",
   "execution_count": null,
   "metadata": {
    "id": "UNLnKjvit0yB"
   },
   "outputs": [],
   "source": [
    "def print_points_ands_function3(sympy_function):\n",
    "    def function(x_): return float(sympy_function.subs(x, x_))\n",
    "    \n",
    "    points_X = np.array([-2, -1, 0, 1, 2, 3, 3.5, 4, 4.5, 5])\n",
    "    points_Y = np.array([60, 25, 4, -0, -57, -195, -295, -540, -700, -760])\n",
    "    plt.xlim(-10, 6)\n",
    "    plt.ylim(-850, 100)\n",
    "    \n",
    "    plt.scatter(points_X, points_Y, c='r')\n",
    "    x_range = np.linspace(plt.xlim()[0], plt.xlim()[1], num=100)\n",
    "    function_Y = [function(x_) for x_ in x_range]\n",
    "    plt.plot(x_range, function_Y, 'b')\n",
    "    plt.show()\n",
    "    \n",
    "    MSE = sum([(points_Y[i] - function(points_X[i]))**2 for i in range(len(points_Y))]) / len(points_Y)\n",
    "    print(f'MSE = {MSE}')"
   ]
  },
  {
   "cell_type": "code",
   "execution_count": null,
   "metadata": {
    "id": "osbCVOuIt0yH",
    "outputId": "22bfe175-fcf5-4290-9dd1-3b2fc34ff029"
   },
   "outputs": [
    {
     "data": {
      "image/png": "[encoded data removed]",
      "text/latex": [
       "$\\displaystyle - 36 x^{3} - 756 x^{2} - 5334 x - 12636$"
      ],
      "text/plain": [
       "      3        2                 \n",
       "- 36*x  - 756*x  - 5334*x - 12636"
      ]
     },
     "execution_count": 11,
     "metadata": {
      "tags": []
     },
     "output_type": "execute_result"
    }
   ],
   "source": [
    "f3 = -36 * x**3 - 756 * x**2 - 5334 * x - 12636\n",
    "f3"
   ]
  },
  {
   "cell_type": "code",
   "execution_count": null,
   "metadata": {
    "id": "1T4lJVQPt0yR",
    "outputId": "ab86dbbf-6fd9-42a9-f5ef-6316179ace4f"
   },
   "outputs": [
    {
     "data": {
      "image/png": "[encoded data removed]",
      "text/plain": [
       "<Figure size 432x288 with 1 Axes>"
      ]
     },
     "metadata": {
      "needs_background": "light",
      "tags": []
     },
     "output_type": "display_data"
    },
    {
     "name": "stdout",
     "output_type": "stream",
     "text": [
      "MSE = 1346344545.35\n"
     ]
    }
   ],
   "source": [
    "print_points_ands_function3(f3)"
   ]
  },
  {
   "cell_type": "markdown",
   "metadata": {
    "id": "3jcBH1M3t0yZ"
   },
   "source": [
    "## 4.\n",
    "### Получите значение MSE меньшее 25."
   ]
  },
  {
   "cell_type": "code",
   "execution_count": null,
   "metadata": {
    "id": "R4nnsc8zt0yb"
   },
   "outputs": [],
   "source": [
    "def print_points_ands_function4(sympy_function):\n",
    "    def function(x_): return float(sympy_function.subs(x, x_))\n",
    "    \n",
    "    points_X = np.array([-2, -1, 0, 1, 2, 3, 3.5, 4, 4.5, 5])\n",
    "    points_Y = np.array([-42, -37, -23, -36, -45, -80, -83, -110, -131, -155])\n",
    "    plt.xlim(-4, 20)\n",
    "    plt.ylim(-160, -10)\n",
    "    \n",
    "    plt.scatter(points_X, points_Y, c='r')\n",
    "    x_range = np.linspace(plt.xlim()[0], plt.xlim()[1], num=100)\n",
    "    function_Y = [function(x_) for x_ in x_range]\n",
    "    plt.plot(x_range, function_Y, 'b')\n",
    "    plt.show()\n",
    "    \n",
    "    MSE = sum([(points_Y[i] - function(points_X[i]))**2 for i in range(len(points_Y))]) / len(points_Y)\n",
    "    print(f'MSE = {MSE}')"
   ]
  },
  {
   "cell_type": "code",
   "execution_count": null,
   "metadata": {
    "id": "Uq__GcfPt0yj",
    "outputId": "345572d8-35a9-47c2-d7c9-4769bd8d17e7"
   },
   "outputs": [
    {
     "data": {
      "image/png": "[encoded data removed]",
      "text/latex": [
       "$\\displaystyle - 1.25 x^{2} + 25 x - 152$"
      ],
      "text/plain": [
       "        2             \n",
       "- 1.25*x  + 25*x - 152"
      ]
     },
     "execution_count": 14,
     "metadata": {
      "tags": []
     },
     "output_type": "execute_result"
    }
   ],
   "source": [
    "f4 = - 5 / 4 * x**2 + 25 * x - 152\n",
    "f4"
   ]
  },
  {
   "cell_type": "code",
   "execution_count": null,
   "metadata": {
    "id": "Muwpsp8tt0yp",
    "outputId": "99828dab-4bd6-434b-fdc9-ee8fa9113858"
   },
   "outputs": [
    {
     "data": {
      "image/png": "[encoded data removed]",
      "text/plain": [
       "<Figure size 432x288 with 1 Axes>"
      ]
     },
     "metadata": {
      "needs_background": "light",
      "tags": []
     },
     "output_type": "display_data"
    },
    {
     "name": "stdout",
     "output_type": "stream",
     "text": [
      "MSE = 9143.51953125\n"
     ]
    }
   ],
   "source": [
    "print_points_ands_function4(f4)"
   ]
  },
  {
   "cell_type": "code",
   "execution_count": null,
   "metadata": {
    "id": "oTNLmWfDt0yt"
   },
   "outputs": [],
   "source": []
  }
 ],
 "metadata": {
  "colab": {
   "collapsed_sections": [],
   "name": "Аппроксимация и преобразования функций. Домашнее задание.ipynb",
   "provenance": []
  },
  "kernelspec": {
   "display_name": "Python 3",
   "language": "python",
   "name": "python3"
  },
  "language_info": {
   "codemirror_mode": {
    "name": "ipython",
    "version": 3
   },
   "file_extension": ".py",
   "mimetype": "text/x-python",
   "name": "python",
   "nbconvert_exporter": "python",
   "pygments_lexer": "ipython3",
   "version": "3.8.5"
  }
 },
 "nbformat": 4,
 "nbformat_minor": 1
}
