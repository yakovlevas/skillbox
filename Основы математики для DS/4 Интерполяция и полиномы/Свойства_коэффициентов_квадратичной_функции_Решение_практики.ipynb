{
  "nbformat": 4,
  "nbformat_minor": 0,
  "metadata": {
    "colab": {
      "name": "Свойства коэффициентов квадратичной функции. Решение практики.ipynb",
      "provenance": []
    },
    "kernelspec": {
      "display_name": "Python 3",
      "language": "python",
      "name": "python3"
    },
    "language_info": {
      "codemirror_mode": {
        "name": "ipython",
        "version": 3
      },
      "file_extension": ".py",
      "mimetype": "text/x-python",
      "name": "python",
      "nbconvert_exporter": "python",
      "pygments_lexer": "ipython3",
      "version": "3.6.3"
    },
    "widgets": {
      "application/vnd.jupyter.widget-state+json": {
        "23b53252b1624e90804a7c7447562d67": {
          "model_module": "@jupyter-widgets/controls",
          "model_name": "VBoxModel",
          "state": {
            "_dom_classes": [
              "widget-interact"
            ],
            "_model_module": "@jupyter-widgets/controls",
            "_model_module_version": "1.5.0",
            "_model_name": "VBoxModel",
            "_view_count": null,
            "_view_module": "@jupyter-widgets/controls",
            "_view_module_version": "1.5.0",
            "_view_name": "VBoxView",
            "box_style": "",
            "children": [
              "IPY_MODEL_c0aac1d33ec64b58a987c5931ca76df2",
              "IPY_MODEL_d78373d6170641b4972a006443c3c716",
              "IPY_MODEL_f30928aa317240f1b817c9863da58c1e",
              "IPY_MODEL_0de35e308c82461ba14ef9d2505f1b11"
            ],
            "layout": "IPY_MODEL_444c7bc3446548888acf56071411f992"
          }
        }
      }
    }
  },
  "cells": [
    {
      "cell_type": "markdown",
      "metadata": {
        "id": "uINUx7ygkhJ7"
      },
      "source": [
        "## Свойства коэффициентов квадратичной функции. Решение практики\n",
        "\n",
        "В качестве практики подберите, варьируя коэффициенты, квадратичную функцию для набора точек. Другими словами, вам нужно решить задачу интерполяции полиномом второй степени. Ниже вы найдете код, который создает ползунки, с помощью которых можно варьировать коэффициенты a, b и c, подбирая нужный вид параболы, а также рисует набор точек. <br><br>\n",
        "Программа будет печатать над графиком актуальный вид функции и сама скажет вам, когда вы достигнете цели. \n"
      ]
    },
    {
      "cell_type": "code",
      "metadata": {
        "id": "6jTnfZNO8EIx"
      },
      "source": [
        "%matplotlib inline\n",
        "from ipywidgets import interactive\n",
        "import matplotlib.pyplot as plt\n",
        "import numpy as np"
      ],
      "execution_count": null,
      "outputs": []
    },
    {
      "cell_type": "code",
      "metadata": {
        "id": "vR8eUwC88EJC"
      },
      "source": [
        "def get_polyfunc_title(koefs):\n",
        "    s_koefs = ''.join([f'+{koefs[i]}x^{len(koefs)-i-1}' if koefs[i]>0 \n",
        "                       else f'{koefs[i]}x^{len(koefs)-i-1}' if koefs[i]<0 \n",
        "                       else ''\n",
        "                       for i in range(len(koefs))])\n",
        "    expr = s_koefs.replace('x^0', '') \\\n",
        "                  .replace('+', ' + ') \\\n",
        "                  .replace('-', ' - ') \\\n",
        "                  .replace('x^1', 'x') \\\n",
        "                  .replace(' 1x', ' x')\n",
        "\n",
        "    if expr[:3]==' + ':\n",
        "        expr = expr[3:]\n",
        "    if expr:\n",
        "        return '$f(x) = ' + expr + '$'\n",
        "    \n",
        "def check(f, x, y):\n",
        "    check = False not in [f(x[i])==y[i] for i in range(len(x))]\n",
        "    if not check:\n",
        "        print('Пока не получилось')\n",
        "    else:\n",
        "        print('Ура! Получилось!')"
      ],
      "execution_count": null,
      "outputs": []
    },
    {
      "cell_type": "code",
      "metadata": {
        "id": "uDeNNBzH8EJP"
      },
      "source": [
        "def parabola(a, b, c):\n",
        "    plt.figure(3)\n",
        "    plt.axhline(0, color='black')\n",
        "    plt.axvline(0, color='black')\n",
        "\n",
        "    x, y = [x for x, y in points], [y for x, y in points]\n",
        "    plt.scatter(x, y, c='r')\n",
        "\n",
        "\n",
        "    \n",
        "    if a != 0:\n",
        "        f = lambda x: a * x**2 + b * x + c\n",
        "        check(f, x, y)\n",
        "        \n",
        "        x = np.linspace(-15, 15, num=1000)\n",
        "        plt.plot(x, a * x**2 + b * x + c)\n",
        "    \n",
        "    plt.ylim(-35, 35)\n",
        "    plt.xlim(-10, 10)\n",
        "        \n",
        "    plt.title(get_polyfunc_title([a,b,c]))\n",
        "    plt.show()"
      ],
      "execution_count": null,
      "outputs": []
    },
    {
      "cell_type": "code",
      "metadata": {
        "id": "aon-5jaz8EJZ",
        "colab": {
          "base_uri": "https://localhost:8080/",
          "height": 17,
          "referenced_widgets": [
            "23b53252b1624e90804a7c7447562d67",
            "d3af1efdd42e481ba1a5365603580d08"
          ]
        },
        "outputId": "1acc2458-bf4f-45a6-a2dc-552fc2127d00"
      },
      "source": [
        "points = [[-2.5, 15.0], \n",
        "          [-2, 10], \n",
        "          [-1.5, 7.0], \n",
        "          [-1, 6], \n",
        "          [-0.5, 7.0], \n",
        "          [0, 10], \n",
        "          [0.5, 15.0], \n",
        "          [1, 22], \n",
        "          [1.5, 31.0]]\n",
        "\n",
        "interactive_plot = interactive(parabola, a=(-5, 5, 1), b=(-100, 100, 1), c=(-20, 20, 1))\n",
        "output = interactive_plot.children[-1]\n",
        "output.layout.height = '300px'\n",
        "interactive_plot"
      ],
      "execution_count": null,
      "outputs": [
        {
          "output_type": "display_data",
          "data": {
            "application/vnd.jupyter.widget-view+json": {
              "model_id": "d3af1efdd42e481ba1a5365603580d08",
              "version_major": 2,
              "version_minor": 0
            },
            "text/plain": [
              "interactive(children=(IntSlider(value=0, description='a', max=5, min=-5), IntSlider(value=0, description='b', …"
            ]
          },
          "metadata": {
            "tags": []
          }
        }
      ]
    }
  ]
}