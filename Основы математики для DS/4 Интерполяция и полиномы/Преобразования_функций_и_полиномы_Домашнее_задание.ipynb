{
 "cells": [
  {
   "cell_type": "markdown",
   "metadata": {
    "id": "yyo73hwFEoJt"
   },
   "source": [
    "## Преобразования функций и полиномы. Домашнее задание\n",
    "\n",
    "С помощью SymPy найдите полиномы, описывающие данные наборы точек. Затем проведите полное исследование каждого полученного полинома: проверьте четность/нечетность, найдите нули, промежутки знакопостоянства. Постройте их графики. С помощью изменения промежутка для х добейтесь того, чтобы все нули были отображены на графике функции.<br><br>\n",
    "Средний уровень <br><br>\n",
    "$(-2, 2), (-1, 1), (0, 0), (1, 1), (2, 2)$<br><br>\n",
    "Сложный уровень <br><br>\n",
    "$(-3, 33), (-2, 31), (-1, 18), (1, -18), (2, -31), (3, -33)$\n"
   ]
  },
  {
   "cell_type": "code",
   "execution_count": 1,
   "metadata": {
    "id": "bVBLXKfjEiEA"
   },
   "outputs": [],
   "source": [
    "### YOUR CODE HERE ###\n",
    "from sympy import *\n",
    "from sympy.plotting import plot\n",
    "init_printing(use_unicode=False, wrap_line=False, no_global=True)\n"
   ]
  },
  {
   "cell_type": "code",
   "execution_count": 34,
   "metadata": {},
   "outputs": [],
   "source": [
    "a5, a4, a3, a2, a1, a0 = symbols('a5,a4,a3,a2,a1,a0')\n",
    "eq1=a4*(-2)**4+a3*(-2)**3+a2*(-2)**2+a1*(-2)+a0-2\n",
    "eq2=a4*(-1)**4+a3*(-1)**3+a2*(-1)**2+a1*(-1)+a0-1\n",
    "eq3=a4*0+a3*0+a2*0+a1*0+a0\n",
    "eq4=a4+a3+a2+a1+a0-1\n",
    "eq5=a4*2**4+a3*2**3+a2*2**2+a1*2+a0-2"
   ]
  },
  {
   "cell_type": "code",
   "execution_count": 35,
   "metadata": {},
   "outputs": [
    {
     "data": {
      "image/png": "[encoded data removed]",
      "text/latex": [
       "$\\displaystyle \\left\\{\\left( - \\frac{1}{6}, \\  0, \\  \\frac{7}{6}, \\  0, \\  0\\right)\\right\\}$"
      ],
      "text/plain": [
       "{(-1/6, 0, 7/6, 0, 0)}"
      ]
     },
     "execution_count": 35,
     "metadata": {},
     "output_type": "execute_result"
    }
   ],
   "source": [
    "nonlinsolve([eq1, eq2, eq3, eq4, eq5], [a4, a3, a2, a1, a0])\n"
   ]
  },
  {
   "cell_type": "code",
   "execution_count": 36,
   "metadata": {},
   "outputs": [
    {
     "data": {
      "image/png": "[encoded data removed]",
      "text/latex": [
       "$\\displaystyle - \\frac{x^{4}}{6} + \\frac{7 x^{2}}{6}$"
      ],
      "text/plain": [
       "   4      2\n",
       "  x    7*x \n",
       "- -- + ----\n",
       "  6     6  "
      ]
     },
     "execution_count": 36,
     "metadata": {},
     "output_type": "execute_result"
    }
   ],
   "source": [
    "x=symbols(\"x\")\n",
    "f=x**4/(-6)+x**2*7/6\n",
    "f"
   ]
  },
  {
   "cell_type": "code",
   "execution_count": 37,
   "metadata": {},
   "outputs": [
    {
     "data": {
      "image/png": "[encoded data removed]",
      "text/plain": [
       "<Figure size 432x288 with 1 Axes>"
      ]
     },
     "metadata": {
      "needs_background": "light"
     },
     "output_type": "display_data"
    },
    {
     "data": {
      "text/plain": [
       "<sympy.plotting.plot.Plot at 0x2229705dbe0>"
      ]
     },
     "execution_count": 37,
     "metadata": {},
     "output_type": "execute_result"
    }
   ],
   "source": [
    "plot(f)"
   ]
  },
  {
   "cell_type": "code",
   "execution_count": 38,
   "metadata": {},
   "outputs": [
    {
     "data": {
      "image/png": "[encoded data removed]",
      "text/latex": [
       "$\\displaystyle -16655000$"
      ],
      "text/plain": [
       "-16655000"
      ]
     },
     "execution_count": 38,
     "metadata": {},
     "output_type": "execute_result"
    }
   ],
   "source": [
    "f.subs(x,100)"
   ]
  },
  {
   "cell_type": "code",
   "execution_count": 39,
   "metadata": {},
   "outputs": [
    {
     "data": {
      "image/png": "[encoded data removed]",
      "text/latex": [
       "$\\displaystyle -16655000$"
      ],
      "text/plain": [
       "-16655000"
      ]
     },
     "execution_count": 39,
     "metadata": {},
     "output_type": "execute_result"
    }
   ],
   "source": [
    "f.subs(x,-100)"
   ]
  },
  {
   "cell_type": "markdown",
   "metadata": {},
   "source": [
    "четная\n"
   ]
  },
  {
   "cell_type": "code",
   "execution_count": 40,
   "metadata": {},
   "outputs": [
    {
     "data": {
      "image/png": "[encoded data removed]",
      "text/latex": [
       "$\\displaystyle \\left[ 0, \\  - \\sqrt{7}, \\  \\sqrt{7}\\right]$"
      ],
      "text/plain": [
       "       ___    ___ \n",
       "[0, -\\/ 7 , \\/ 7 ]"
      ]
     },
     "execution_count": 40,
     "metadata": {},
     "output_type": "execute_result"
    }
   ],
   "source": [
    "solve(f)"
   ]
  },
  {
   "cell_type": "code",
   "execution_count": 41,
   "metadata": {},
   "outputs": [
    {
     "data": {
      "image/png": "[encoded data removed]",
      "text/latex": [
       "$\\displaystyle \\left(0 < x \\wedge x < \\sqrt{7}\\right) \\vee \\left(- \\sqrt{7} < x \\wedge x < 0\\right)$"
      ],
      "text/plain": [
       "  /   /             ___\\     /   ___           \\\\\n",
       "Or\\And\\0 < x, x < \\/ 7 /, And\\-\\/ 7  < x, x < 0//"
      ]
     },
     "execution_count": 41,
     "metadata": {},
     "output_type": "execute_result"
    }
   ],
   "source": [
    "solve_univariate_inequality(f>0,x)"
   ]
  },
  {
   "cell_type": "code",
   "execution_count": 42,
   "metadata": {},
   "outputs": [
    {
     "data": {
      "image/png": "[encoded data removed]",
      "text/latex": [
       "$\\displaystyle \\left(-\\infty < x \\wedge x < - \\sqrt{7}\\right) \\vee \\left(\\sqrt{7} < x \\wedge x < \\infty\\right)$"
      ],
      "text/plain": [
       "  /   /                ___\\     /  ___            \\\\\n",
       "Or\\And\\-oo < x, x < -\\/ 7 /, And\\\\/ 7  < x, x < oo//"
      ]
     },
     "execution_count": 42,
     "metadata": {},
     "output_type": "execute_result"
    }
   ],
   "source": [
    "solve_univariate_inequality(f<0,x)"
   ]
  },
  {
   "cell_type": "markdown",
   "metadata": {},
   "source": [
    "решив первую производную, найдем экстремумы"
   ]
  },
  {
   "cell_type": "code",
   "execution_count": 43,
   "metadata": {},
   "outputs": [
    {
     "data": {
      "image/png": "[encoded data removed]",
      "text/latex": [
       "$\\displaystyle - \\frac{2 x^{3}}{3} + \\frac{7 x}{3}$"
      ],
      "text/plain": [
       "     3      \n",
       "  2*x    7*x\n",
       "- ---- + ---\n",
       "   3      3 "
      ]
     },
     "execution_count": 43,
     "metadata": {},
     "output_type": "execute_result"
    }
   ],
   "source": [
    "f1=-4*x**3/6+14*x/6\n",
    "f1"
   ]
  },
  {
   "cell_type": "code",
   "execution_count": 44,
   "metadata": {},
   "outputs": [
    {
     "data": {
      "image/png": "[encoded data removed]",
      "text/latex": [
       "$\\displaystyle \\left[ 0, \\  - \\frac{\\sqrt{14}}{2}, \\  \\frac{\\sqrt{14}}{2}\\right]$"
      ],
      "text/plain": [
       "       ____     ____ \n",
       "    -\\/ 14    \\/ 14  \n",
       "[0, --------, ------]\n",
       "       2        2    "
      ]
     },
     "execution_count": 44,
     "metadata": {},
     "output_type": "execute_result"
    }
   ],
   "source": [
    "solve(f1)"
   ]
  },
  {
   "cell_type": "markdown",
   "metadata": {},
   "source": [
    "нашли три точки перемены знака"
   ]
  },
  {
   "cell_type": "markdown",
   "metadata": {},
   "source": [
    "## Второе задание\n",
    "(−3,33),(−2,31),(−1,18),(1,−18),(2,−31),(3,−33)\n"
   ]
  },
  {
   "cell_type": "code",
   "execution_count": 45,
   "metadata": {},
   "outputs": [],
   "source": [
    "eq1=a5*(-3)**5+a4*(-3)**4+a3*(-3)**3+a2*(-3)**2+a1*(-3)+a0-33\n",
    "eq2=a5*(-2)**5+a4*(-2)**4+a3*(-2)**3+a2*(-2)**2+a1*(-2)+a0-31\n",
    "eq3=a5*(-1)**5+a4*(-1)**4+a3*(-1)**3+a2*(-1)**2+a1*(-1)+a0-18\n",
    "eq4=a5*(1)**5+a4*(1)**4+a3*(1)**3+a2*(1)**2+a1*(1)+a0+18\n",
    "eq5=a5*(2)**5+a4*(2)**4+a3*(2)**3+a2*(2)**2+a1*(2)+a0+31\n",
    "eq6=a5*(3)**5+a4*(3)**4+a3*(3)**3+a2*(3)**2+a1*(3)+a0+33"
   ]
  },
  {
   "cell_type": "code",
   "execution_count": 46,
   "metadata": {},
   "outputs": [
    {
     "data": {
      "image/png": "[encoded data removed]",
      "text/latex": [
       "$\\displaystyle \\left\\{\\left( \\frac{1}{120}, \\  0, \\  \\frac{19}{24}, \\  0, \\  - \\frac{94}{5}, \\  0\\right)\\right\\}$"
      ],
      "text/plain": [
       "            19               \n",
       "{(1/120, 0, --, 0, -94/5, 0)}\n",
       "            24               "
      ]
     },
     "execution_count": 46,
     "metadata": {},
     "output_type": "execute_result"
    }
   ],
   "source": [
    "nonlinsolve([eq1, eq2, eq3, eq4, eq5, eq6], [a5, a4, a3, a2, a1, a0])"
   ]
  },
  {
   "cell_type": "code",
   "execution_count": 47,
   "metadata": {},
   "outputs": [
    {
     "data": {
      "image/png": "[encoded data removed]",
      "text/latex": [
       "$\\displaystyle \\frac{x^{5}}{120} + \\frac{19 x^{3}}{24} + \\frac{94 x}{5}$"
      ],
      "text/plain": [
       "  5       3       \n",
       " x    19*x    94*x\n",
       "--- + ----- + ----\n",
       "120     24     5  "
      ]
     },
     "execution_count": 47,
     "metadata": {},
     "output_type": "execute_result"
    }
   ],
   "source": [
    "f=x**5/120+x**3*19/24+x*94/5\n",
    "f"
   ]
  },
  {
   "cell_type": "code",
   "execution_count": 48,
   "metadata": {},
   "outputs": [
    {
     "data": {
      "image/png": "[encoded data removed]",
      "text/plain": [
       "<Figure size 432x288 with 1 Axes>"
      ]
     },
     "metadata": {
      "needs_background": "light"
     },
     "output_type": "display_data"
    },
    {
     "data": {
      "text/plain": [
       "<sympy.plotting.plot.Plot at 0x22298ad8a30>"
      ]
     },
     "execution_count": 48,
     "metadata": {},
     "output_type": "execute_result"
    }
   ],
   "source": [
    "plot(f)"
   ]
  },
  {
   "cell_type": "code",
   "execution_count": 50,
   "metadata": {},
   "outputs": [
    {
     "data": {
      "image/png": "[encoded data removed]",
      "text/latex": [
       "$\\displaystyle 84126880$"
      ],
      "text/plain": [
       "84126880"
      ]
     },
     "execution_count": 50,
     "metadata": {},
     "output_type": "execute_result"
    }
   ],
   "source": [
    "f.subs(x,100)"
   ]
  },
  {
   "cell_type": "code",
   "execution_count": 51,
   "metadata": {},
   "outputs": [
    {
     "data": {
      "image/png": "[encoded data removed]",
      "text/latex": [
       "$\\displaystyle -84126880$"
      ],
      "text/plain": [
       "-84126880"
      ]
     },
     "execution_count": 51,
     "metadata": {},
     "output_type": "execute_result"
    }
   ],
   "source": [
    "f.subs(x,-100)"
   ]
  },
  {
   "cell_type": "markdown",
   "metadata": {},
   "source": [
    "нечетная"
   ]
  },
  {
   "cell_type": "code",
   "execution_count": 49,
   "metadata": {},
   "outputs": [
    {
     "data": {
      "image/png": "[encoded data removed]",
      "text/latex": [
       "$\\displaystyle \\left[ 0, \\  - 4 \\sqrt{3} i, \\  4 \\sqrt{3} i, \\  - \\sqrt{47} i, \\  \\sqrt{47} i\\right]$"
      ],
      "text/plain": [
       "         ___        ___       ____      ____   \n",
       "[0, -4*\\/ 3 *I, 4*\\/ 3 *I, -\\/ 47 *I, \\/ 47 *I]"
      ]
     },
     "execution_count": 49,
     "metadata": {},
     "output_type": "execute_result"
    }
   ],
   "source": [
    "solve(f)"
   ]
  },
  {
   "cell_type": "markdown",
   "metadata": {},
   "source": [
    "пересечение оси ОХ в точке 0"
   ]
  },
  {
   "cell_type": "code",
   "execution_count": 52,
   "metadata": {},
   "outputs": [
    {
     "data": {
      "image/png": "[encoded data removed]",
      "text/latex": [
       "$\\displaystyle 0 < x \\wedge x < \\infty$"
      ],
      "text/plain": [
       "And(0 < x, x < oo)"
      ]
     },
     "execution_count": 52,
     "metadata": {},
     "output_type": "execute_result"
    }
   ],
   "source": [
    "solve_univariate_inequality(f>0,x)\n"
   ]
  },
  {
   "cell_type": "code",
   "execution_count": 53,
   "metadata": {},
   "outputs": [
    {
     "data": {
      "image/png": "[encoded data removed]",
      "text/latex": [
       "$\\displaystyle -\\infty < x \\wedge x < 0$"
      ],
      "text/plain": [
       "And(-oo < x, x < 0)"
      ]
     },
     "execution_count": 53,
     "metadata": {},
     "output_type": "execute_result"
    }
   ],
   "source": [
    "solve_univariate_inequality(f<0,x)"
   ]
  },
  {
   "cell_type": "code",
   "execution_count": null,
   "metadata": {},
   "outputs": [],
   "source": []
  }
 ],
 "metadata": {
  "colab": {
   "collapsed_sections": [],
   "name": "Преобразования функций и полиномы. Домашнее задание.ipynb",
   "provenance": []
  },
  "kernelspec": {
   "display_name": "Python 3",
   "language": "python",
   "name": "python3"
  },
  "language_info": {
   "codemirror_mode": {
    "name": "ipython",
    "version": 3
   },
   "file_extension": ".py",
   "mimetype": "text/x-python",
   "name": "python",
   "nbconvert_exporter": "python",
   "pygments_lexer": "ipython3",
   "version": "3.8.5"
  }
 },
 "nbformat": 4,
 "nbformat_minor": 1
}
