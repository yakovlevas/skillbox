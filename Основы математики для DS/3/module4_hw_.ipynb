{
 "cells": [
  {
   "cell_type": "markdown",
   "metadata": {
    "colab_type": "text",
    "id": "Zi98nJms5aJV"
   },
   "source": [
    "## Домашнее задание. Функции одной переменной, их свойства и графики.\n",
    "\n",
    "\n",
    "Домашнее задание к модулю состоит из двух частей. В первой части вы найдете пять графиков и 5 функций. Укажите, какой функции какой график соответствует.\n",
    "\tВо второй части дан набор функций. Исследуйте их на четность/нечетность, найдите их нули и промежутки знакопостоянства. Также, с помощью графиков, определите промежутки возрастания/убывания этих функций. Это легко сделать для линейной и показательной функций, для корня и логарифма немного сложнее, а для решения задачи с параболой нужно будет немного подумать. Если у вас нет желания поломать голову, находить промежутки возрастания/убывания параболы необязательно. Для тех, кто решит этим заняться, есть подсказка в текстовом описании под видео. <br><br>\n",
    "\tНа проверку пришлите ноутбук с выполненным исследованием. <br>\n",
    "\n"
   ]
  },
  {
   "cell_type": "markdown",
   "metadata": {
    "colab_type": "text",
    "id": "y1r4l2xB6Y_u"
   },
   "source": [
    "### Задание 1. \n",
    "\n",
    "а. $4x+5$ <br>\n",
    "б. $4x^2+4x+10$ <br>\n",
    "в. $100log(x)$ <br>\n",
    "г. $200\\sqrt x$ <br>\n",
    "д. $100e^{0.2x}$ <br>\n",
    "\n",
    "1. ![pic1.png](https://sun9-25.userapi.com/c858228/v858228580/11d685/oGV4QRM4g-I.jpg)\n",
    "2. ![pic2.png](https://sun9-13.userapi.com/c858228/v858228580/11d68c/aX9VkpWVosY.jpg)\n",
    "3. ![pic3.png](https://sun9-24.userapi.com/c858228/v858228580/11d693/Gzu0kXLECfg.jpg)\n",
    "4. ![pic4.png](https://sun9-45.userapi.com/c858228/v858228580/11d69a/sK-lypj-1Ik.jpg)\n",
    "5. ![pic5.png](https://sun9-3.userapi.com/c858228/v858228580/11d6a1/JpoMah5Jv0s.jpg)\n",
    "\n",
    "**Ответ:**"
   ]
  },
  {
   "cell_type": "markdown",
   "metadata": {
    "colab_type": "text",
    "id": "C-tgkRuE0XXX"
   },
   "source": [
    "### Задание 2. Проведите исследование полученных функций. \n",
    "\n",
    "1. $5x + 1.5$\n",
    "2. $2e^{0.2x}-1$\n",
    "3. $3\\sqrt x - 15$\n",
    "4. $2\\log(x) + 5$\n",
    "5. $-5x^2 - 10x + 100$\n",
    "\n",
    "\n"
   ]
  },
  {
   "cell_type": "code",
   "execution_count": 0,
   "metadata": {
    "colab": {},
    "colab_type": "code",
    "id": "0uvTmySu9IeC"
   },
   "outputs": [],
   "source": []
  }
 ],
 "metadata": {
  "colab": {
   "collapsed_sections": [],
   "name": "module4_hw.ipynb",
   "provenance": []
  },
  "kernelspec": {
   "display_name": "Python 3",
   "language": "python",
   "name": "python3"
  },
  "language_info": {
   "codemirror_mode": {
    "name": "ipython",
    "version": 3
   },
   "file_extension": ".py",
   "mimetype": "text/x-python",
   "name": "python",
   "nbconvert_exporter": "python",
   "pygments_lexer": "ipython3",
   "version": "3.8.5"
  }
 },
 "nbformat": 4,
 "nbformat_minor": 1
}
