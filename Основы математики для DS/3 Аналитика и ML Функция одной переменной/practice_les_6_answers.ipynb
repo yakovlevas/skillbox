{
  "nbformat": 4,
  "nbformat_minor": 0,
  "metadata": {
    "colab": {
      "name": "practice_les-6_answers.ipynb",
      "provenance": [],
      "collapsed_sections": []
    },
    "kernelspec": {
      "name": "python3",
      "display_name": "Python 3"
    }
  },
  "cells": [
    {
      "cell_type": "markdown",
      "metadata": {
        "id": "gh5MFNIuwemF"
      },
      "source": [
        "## Решение. Дополнительный функционал SymPy для исследования функций.\n",
        "\n",
        "В качестве практики найдите нули  и промежутки знакопостоянства функций, с которыми вы работали в рамках предыдущей практики:\n",
        "1. $f(x)=e^x$\n",
        "2. $f(x)=ln(x)$\n",
        "3. $f(x)=2x^2+3x-5$\n",
        "4. $f(x)=\\sqrt x$\n",
        "<br>\n",
        "\n",
        "Проверьте, согласуются ли найденные вами значения с поведением графика.\n",
        "\n"
      ]
    },
    {
      "cell_type": "markdown",
      "metadata": {
        "id": "7P9koYL4xB5Q"
      },
      "source": [
        "**Ответы:**\n",
        "1. $f=0$ ни при каких $x$. $f>0$ при $x\\in(-∞,+∞)$. $f<0$ ни при каких $x$. \n",
        "2. $f=0$ при $x=1$. $f>0$ при $x\\in(1,+∞)$. $f<0$ при $x\\in(0,1)$.\n",
        "3. $f=0$ при $x=-\\frac{5}{2}$ и $x=1$. $f>0$ при $x\\in(-∞,-\\frac{5}{2})\\cup(1,+∞)$. $f<0$ при $x(-\\frac{5}{2},1)$.\n",
        "4. $f=0$ при $x=0$. $f>0$ при $x\\in(0,+∞)$. $f<0$ ни при каких $x$. \n",
        "\n",
        "\n",
        "В практике нужно было найти нули и промежутки знакопостоянства для пройденных функций. В качестве примера найдем нули и промежутки знакопостоянства функции $\\sqrt x$. \n",
        "\n",
        "<br>\n",
        "Создадим функцию:"
      ]
    },
    {
      "cell_type": "code",
      "metadata": {
        "id": "TigU5eApyYRf"
      },
      "source": [
        "from sympy import *\n",
        "from sympy.plotting import plot\n",
        "\n",
        "x = Symbol('x')\n",
        "init_printing(use_unicode=False, wrap_line=False, no_global=True)\n",
        "\n",
        "f = sqrt(x)"
      ],
      "execution_count": null,
      "outputs": []
    },
    {
      "cell_type": "markdown",
      "metadata": {
        "id": "SB3tSXCXykHN"
      },
      "source": [
        "Построим ее график. Область определения корня ограничена – только неотрицательные числа, так что нужно передать в функцию `plot` промежуток для аргумента.\n"
      ]
    },
    {
      "cell_type": "code",
      "metadata": {
        "id": "nvWQlRRIvmu-",
        "colab": {
          "base_uri": "https://localhost:8080/",
          "height": 295
        },
        "outputId": "a0c2dbb6-9ba7-4279-ffb0-ef954b130fd3"
      },
      "source": [
        "plot(f, (x, 0, 100))"
      ],
      "execution_count": null,
      "outputs": [
        {
          "output_type": "display_data",
          "data": {
            "image/png": "[encoded data removed]",
            "text/plain": [
              "<Figure size 432x288 with 1 Axes>"
            ]
          },
          "metadata": {
            "tags": []
          }
        },
        {
          "output_type": "execute_result",
          "data": {
            "text/plain": [
              "<sympy.plotting.plot.Plot at 0x7fb946c80780>"
            ]
          },
          "metadata": {
            "tags": []
          },
          "execution_count": 3
        }
      ]
    },
    {
      "cell_type": "markdown",
      "metadata": {
        "id": "FOmM55Wvyptw"
      },
      "source": [
        "Отлично, похоже на правду. Теперь найдем ее нули. Напоминаю, что у функции только один ноль, при икс, равном нулю. Посмотрим, что получится:\n"
      ]
    },
    {
      "cell_type": "code",
      "metadata": {
        "id": "zMgT43-iytXe",
        "colab": {
          "base_uri": "https://localhost:8080/",
          "height": 34
        },
        "outputId": "6e91c22d-aa50-4819-bd87-5ac2084e5c2e"
      },
      "source": [
        "solve(f)"
      ],
      "execution_count": null,
      "outputs": [
        {
          "output_type": "execute_result",
          "data": {
            "image/png": "[encoded data removed]",
            "text/latex": "$$\\left [ 0\\right ]$$",
            "text/plain": [
              "[0]"
            ]
          },
          "metadata": {
            "tags": []
          },
          "execution_count": 4
        }
      ]
    },
    {
      "cell_type": "markdown",
      "metadata": {
        "id": "cxVo_TCcywzU"
      },
      "source": [
        "Так и есть, мы получили одно значение, равное нулю. <br><br>\n",
        "Найдем промежутки знакопостоянства. Мы видим, что график $\\sqrt(x)$ , кроме точки, находящейся в начале координат, весь находится выше оси OX, значит, неравенство $f(x)>0$ должно дать все положительные числа, а  $f(x)<0$ не должно вернуть ничего. Посмотрим:\n"
      ]
    },
    {
      "cell_type": "code",
      "metadata": {
        "id": "ukbHZDy_y82F",
        "colab": {
          "base_uri": "https://localhost:8080/",
          "height": 34
        },
        "outputId": "0379b84e-eca5-40cf-fbc4-c01019f871f8"
      },
      "source": [
        "solve_univariate_inequality(f>0,x)"
      ],
      "execution_count": null,
      "outputs": [
        {
          "output_type": "execute_result",
          "data": {
            "image/png": "[encoded data removed]",
            "text/latex": "$$0 < x \\wedge x < \\infty$$",
            "text/plain": [
              "And(0 < x, x < oo)"
            ]
          },
          "metadata": {
            "tags": []
          },
          "execution_count": 5
        }
      ]
    },
    {
      "cell_type": "markdown",
      "metadata": {
        "id": "Nw_7ZhnVzGFE"
      },
      "source": [
        "[Текст ссылки](https://)Отлично, все верно, $x\\in(0,+∞)$, то есть это все положительные числа. Проверим, что нет таких икс, что функция корня меньше нуля:\n"
      ]
    },
    {
      "cell_type": "code",
      "metadata": {
        "id": "6LeUJVa0zJJT",
        "colab": {
          "base_uri": "https://localhost:8080/",
          "height": 34
        },
        "outputId": "fe146a4d-4923-4dbd-8957-1cd884fdb4ce"
      },
      "source": [
        "solve_univariate_inequality(f<0,x)"
      ],
      "execution_count": null,
      "outputs": [
        {
          "output_type": "execute_result",
          "data": {
            "image/png": "[encoded data removed]",
            "text/latex": "$$\\mathrm{False}$$",
            "text/plain": [
              "False"
            ]
          },
          "metadata": {
            "tags": []
          },
          "execution_count": 6
        }
      ]
    },
    {
      "cell_type": "markdown",
      "metadata": {
        "id": "K6J1fJT6zPMm"
      },
      "source": [
        "Вот так `symPy` сообщил нам, что нет таких икс, что $x<0$.\n"
      ]
    }
  ]
}