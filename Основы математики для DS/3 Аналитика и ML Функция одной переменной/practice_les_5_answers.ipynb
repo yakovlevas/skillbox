{
  "nbformat": 4,
  "nbformat_minor": 0,
  "metadata": {
    "colab": {
      "name": "practice_les-5_answers.ipynb",
      "provenance": [],
      "collapsed_sections": []
    },
    "kernelspec": {
      "name": "python3",
      "display_name": "Python 3"
    }
  },
  "cells": [
    {
      "cell_type": "markdown",
      "metadata": {
        "id": "XBfSbTeDk7SZ"
      },
      "source": [
        "## Решение. Исследование параболы с помощью SymPy\n",
        "\n",
        "Итак, мы познакомили с несколькими инструментами для исследования функций. Для закрепления материала мы подготовили несколько практических заданий. Практика будет состоять из двух частей. В первой части нужно понять по эскизу графика функции, какие у нее знаки коэффициентов. <br><br>\n",
        "Во второй части практики исследуйте все типы элементарных функций, по примеру того, как я исследовал параболу в этом уроке. "
      ]
    },
    {
      "cell_type": "markdown",
      "metadata": {
        "id": "5ZLPTbegmvMB"
      },
      "source": [
        "### Первая часть\n",
        "**Ответы:**<br> \n",
        "![practice_les-2_pos_1-2.png](https://sun9-58.userapi.com/c858228/v858228580/11d5ae/MzvyoLZ5ttY.jpg)![practice_les-2_pos_2-2.png](https://sun9-58.userapi.com/c858228/v858228580/11d5bc/yhr6c1d3LoI.jpg)<br>\n",
        "Первая функция: $a>0, c<0$ Вторая функция: $a>0,c>0$ <br>\n",
        "![practice_les-2_pos_1-1.png](https://sun9-52.userapi.com/c858228/v858228580/11d5a7/WY1EKnfr_Ro.jpg)![practice_les-2_pos_2-1.png](https://sun9-43.userapi.com/c858228/v858228580/11d5b5/cRGlFAOaPeA.jpg)<br>\n",
        "Третья функция: $a<0, c>0$ Четвертая функция: $a<0, c<0$"
      ]
    },
    {
      "cell_type": "markdown",
      "metadata": {
        "id": "kqo0XVTqpE1Y"
      },
      "source": [
        "### Вторая часть\n",
        "\n",
        "\n",
        "Импортируйте библиотеку и модуль `plot`, вызовите команду для красивой отрисовки формул. Постройте график каждой функции, проверьте, является ли она четной, нечетной или ни той, ни другой по виду графика и с помощью подстановки значений. Проверьте свойства коэффициентов, которые были упомянуты в уроке про элементарные функции, покрутите линейную функцию, варьируя угловой коэффициент, и подвигайте графики линейной функции и параболу вверх и вниз, меняя свободный член. Графики показательной функции и корня также можно двигать вверх и вниз, добавляя к ним положительные и отрицательные числа, например $f(x)=e^x+1$ –  это график функции $f(x)=e^x$, сдвинутый вверх на единицу. <br>\n",
        "<br>\n",
        "Для параболы проверьте свойство коэффициента при икс в квадрате. Будьте внимательны с промежутками для переменной (областью определения), не сломайте `symPy` :)\n"
      ]
    },
    {
      "cell_type": "markdown",
      "metadata": {
        "id": "SdaRZOdcpuXd"
      },
      "source": [
        "**(1)** В качестве примера показательной функции используйте экспоненциальную функцию $e^x$. В `symPy` ее можно объявить так:"
      ]
    },
    {
      "cell_type": "code",
      "metadata": {
        "id": "7r4i3FmLpt0s"
      },
      "source": [
        "f = exp(x)\n"
      ],
      "execution_count": null,
      "outputs": []
    },
    {
      "cell_type": "markdown",
      "metadata": {
        "id": "J7Nzu-X0qPve"
      },
      "source": [
        "**(2)** В качестве примера логарифмической функции используйте натуральный логарифм. В `symPy` его можно объявить так:"
      ]
    },
    {
      "cell_type": "code",
      "metadata": {
        "id": "pvzIk4xSqVta"
      },
      "source": [
        "f = ln(x)"
      ],
      "execution_count": null,
      "outputs": []
    },
    {
      "cell_type": "markdown",
      "metadata": {
        "id": "cIpbJ597qa7z"
      },
      "source": [
        "**(3)** В качестве примера одной квадратичной функции используйте следующую функцию:   $f(x)=2x^2+3x-5$."
      ]
    },
    {
      "cell_type": "markdown",
      "metadata": {
        "id": "gRdTqWbJqmEK"
      },
      "source": [
        "**(4)** В качестве примера другой квадратичной функции используйте следующую функцию:   $f(x)=5x^2-8$."
      ]
    },
    {
      "cell_type": "markdown",
      "metadata": {
        "id": "e0xydv-Hqte7"
      },
      "source": [
        "**(5)** В качестве функции корня используйте просто корень: $f(x)=\\sqrt(x)$."
      ]
    },
    {
      "cell_type": "markdown",
      "metadata": {
        "id": "faHW4FkBrQCu"
      },
      "source": [
        "**Ответы:** из всех функций только четвертая была четной, остальные – ни четные, ни нечетные."
      ]
    },
    {
      "cell_type": "markdown",
      "metadata": {
        "id": "RWmLgvyzs1PB"
      },
      "source": [
        "В практике к предыдущему уроку нужно было построить и исследовать свойства коэффициентов пройденных нами элементарных функций. В качестве примера разберем исследование логарифмической функции.\n",
        "\n",
        "\n"
      ]
    },
    {
      "cell_type": "code",
      "metadata": {
        "id": "HkuC9Iacmpwc"
      },
      "source": [
        "from sympy import *\n",
        "from sympy.plotting import plot\n",
        "\n",
        "x = Symbol('x')\n",
        "init_printing(use_unicode=False, wrap_line=False, no_global=True)"
      ],
      "execution_count": null,
      "outputs": []
    },
    {
      "cell_type": "markdown",
      "metadata": {
        "id": "1HJvUA2stcWn"
      },
      "source": [
        "Создаем функцию:"
      ]
    },
    {
      "cell_type": "code",
      "metadata": {
        "id": "oQqZcI3aq5aq"
      },
      "source": [
        "f = ln(x)"
      ],
      "execution_count": null,
      "outputs": []
    },
    {
      "cell_type": "markdown",
      "metadata": {
        "id": "q5uoMf_1tkqf"
      },
      "source": [
        "Мы помним, что ее график не получится построить, не учтя области определения, поэтому вспоминаем, что логарифм определен только для положительных значений икс и строим на промежутке от 0 до 100:\n"
      ]
    },
    {
      "cell_type": "code",
      "metadata": {
        "id": "Haf_LA7Jkfwr",
        "colab": {
          "base_uri": "https://localhost:8080/",
          "height": 328
        },
        "outputId": "cf05c268-c1d7-40d7-a7fc-1d07c8717ffc"
      },
      "source": [
        "plot(f, (x, 0, 100))"
      ],
      "execution_count": null,
      "outputs": [
        {
          "output_type": "stream",
          "text": [
            "/usr/local/lib/python3.6/dist-packages/sympy/plotting/experimental_lambdify.py:232: UserWarning: The evaluation of the expression is problematic. We are trying a failback method that may still work. Please report this as a bug.\n",
            "  warnings.warn('The evaluation of the expression is'\n"
          ],
          "name": "stderr"
        },
        {
          "output_type": "display_data",
          "data": {
            "image/png": "[encoded data removed]",
            "text/plain": [
              "<Figure size 432x288 with 1 Axes>"
            ]
          },
          "metadata": {
            "tags": []
          }
        },
        {
          "output_type": "execute_result",
          "data": {
            "text/plain": [
              "<sympy.plotting.plot.Plot at 0x7f5030069e48>"
            ]
          },
          "metadata": {
            "tags": []
          },
          "execution_count": 7
        }
      ]
    },
    {
      "cell_type": "markdown",
      "metadata": {
        "id": "bAW6IdTLtsYh"
      },
      "source": [
        "Теперь попробуем подвигать график вверх-вниз, уменьшая и увеличивая свободный член. Сейчас у нас его совсем нет, добавим его:"
      ]
    },
    {
      "cell_type": "code",
      "metadata": {
        "id": "ZY64_MqCtvsz"
      },
      "source": [
        "f = ln(x) + 5"
      ],
      "execution_count": null,
      "outputs": []
    },
    {
      "cell_type": "markdown",
      "metadata": {
        "id": "zdNfDFnDt1AZ"
      },
      "source": [
        "График должен сдвинуться на 5 вверх. Проверим:"
      ]
    },
    {
      "cell_type": "code",
      "metadata": {
        "id": "9ey13bLSt1nQ",
        "colab": {
          "base_uri": "https://localhost:8080/",
          "height": 356
        },
        "outputId": "ad126f0c-3336-49b3-a650-bea75dbdec12"
      },
      "source": [
        "plot(f, (x, 0, 100))"
      ],
      "execution_count": null,
      "outputs": [
        {
          "output_type": "stream",
          "text": [
            "/usr/local/lib/python3.6/dist-packages/sympy/plotting/experimental_lambdify.py:232: UserWarning: The evaluation of the expression is problematic. We are trying a failback method that may still work. Please report this as a bug.\n",
            "  warnings.warn('The evaluation of the expression is'\n"
          ],
          "name": "stderr"
        },
        {
          "output_type": "display_data",
          "data": {
            "image/png": "[encoded data removed]",
            "text/plain": [
              "<Figure size 432x288 with 1 Axes>"
            ]
          },
          "metadata": {
            "tags": []
          }
        },
        {
          "output_type": "execute_result",
          "data": {
            "text/plain": [
              "<sympy.plotting.plot.Plot at 0x7f5030069f60>"
            ]
          },
          "metadata": {
            "tags": []
          },
          "execution_count": 9
        }
      ]
    },
    {
      "cell_type": "markdown",
      "metadata": {
        "id": "mH_Wdeaxt42z"
      },
      "source": [
        "На первый взгляд изменений не видно, но если присмотреться, то можно заметить, что масштаб оси OY изменился и теперь там где раньше было 3, находится 8. Значит, график сдвинулся вверх на 5, ура.  <br><br>\n",
        "\tДавайте теперь подвинем его вниз. Для этого уменьшим свободный член на 10:\n"
      ]
    },
    {
      "cell_type": "code",
      "metadata": {
        "id": "JBb3qGMgt9nZ",
        "colab": {
          "base_uri": "https://localhost:8080/",
          "height": 328
        },
        "outputId": "0243d7b4-a7f6-4cd6-c72c-7d2c271864d2"
      },
      "source": [
        "f = ln(x) - 5\n",
        "plot(f, (x, 0, 100))"
      ],
      "execution_count": null,
      "outputs": [
        {
          "output_type": "stream",
          "text": [
            "/usr/local/lib/python3.6/dist-packages/sympy/plotting/experimental_lambdify.py:232: UserWarning: The evaluation of the expression is problematic. We are trying a failback method that may still work. Please report this as a bug.\n",
            "  warnings.warn('The evaluation of the expression is'\n"
          ],
          "name": "stderr"
        },
        {
          "output_type": "display_data",
          "data": {
            "image/png": "[encoded data removed]",
            "text/plain": [
              "<Figure size 432x288 with 1 Axes>"
            ]
          },
          "metadata": {
            "tags": []
          }
        },
        {
          "output_type": "execute_result",
          "data": {
            "text/plain": [
              "<sympy.plotting.plot.Plot at 0x7f502d4389b0>"
            ]
          },
          "metadata": {
            "tags": []
          },
          "execution_count": 10
        }
      ]
    },
    {
      "cell_type": "markdown",
      "metadata": {
        "id": "G3Q8oOekuFvI"
      },
      "source": [
        "Масштаб снова изменился, но нас не проведешь. Изгиб графика, который раньше был на высоте 5, теперь находится на уровне –5. Отлично, значит, график сдвинулся вниз на 10."
      ]
    }
  ]
}