{
  "nbformat": 4,
  "nbformat_minor": 0,
  "metadata": {
    "kernelspec": {
      "display_name": "Python 3",
      "language": "python",
      "name": "python3"
    },
    "language_info": {
      "codemirror_mode": {
        "name": "ipython",
        "version": 3
      },
      "file_extension": ".py",
      "mimetype": "text/x-python",
      "name": "python",
      "nbconvert_exporter": "python",
      "pygments_lexer": "ipython3",
      "version": "3.7.4"
    },
    "colab": {
      "name": "matplotlib 2 - ДЗ.ipynb",
      "provenance": [],
      "collapsed_sections": []
    }
  },
  "cells": [
    {
      "cell_type": "markdown",
      "metadata": {
        "id": "ArZOeK45EJhi"
      },
      "source": [
        "# Продвинутая визуализация с Matplotlib\n",
        "\n",
        "## Домашнее задание \n",
        "\n",
        "### Цель домашнего задания\n",
        "\n",
        "Отработать навык продвинутой визуализации и форматирования данных с помощью matplotlib. Научиться использовать механизмы стилизации для фокусировки внимания читателей графиков\n",
        "\n",
        "### Описание домашнего задания и формат сдачи\n",
        "\n",
        "Выполните предложенные задачи по визуализации данных — впишите свой код в ячейки после комментария `### YOUR CODE HERE ###` и сохраните изменения, используя опцию *Save and Checkpoint* из вкладки меню *File* или кнопку *Save and Checkpoint* на панели инструментов. Итоговый файл в формате `.ipynb` (файл Jupyter Notebook) загрузите в личный кабинет и отправьте на проверку.\n",
        "\n",
        "При построении графиков необходимо использовать объектно-ориентированный подход (задание графика через объекты Figure и Axes) везде, где это возможно. У всех графиков обязательно должен присутствовать заголовок и подписи осей. Убедитесь, что все метки и подписи осей читаемы и не накладываются друг на друга и на графики. При построении нескольких графиков в одних координатных осях должна быть легенда.\n",
        "\n",
        "#### Описание данных\n",
        "\n",
        "Для выполнения домашнего задания необходимо использовать датасет `vgsales.csv`, загрузка которого будет приведена ниже. Этот датасет содержит информацию о суммарных продажах видеоигр для игровых консолей. Описание признаков:\n",
        "* `Rank` - порядковый номер записи в датасете\n",
        "* `Name` - наименование игры\n",
        "* `Platform` - платформа, для которой выпущена игра (Nintendo, PlayStation, XBox и др.)\n",
        "* `Year` - год выпуска игры\n",
        "* `Genre` - жанр игры\n",
        "* `Publisher` - наименование компании-издателя игры\n",
        "* `NA_Sales` - объем продаж игры в Северной Америке, млн. копий\n",
        "* `EU_Sales` - объем продаж игры в Европе, млн. копий\n",
        "* `JP_Sales` - объем продаж игры в Японии, млн. копий\n",
        "* `Other_Sales` - объем продаж игры в остальных странах, млн. копий\n",
        "* `Global_Sales` - объем продаж игры по всему миру, млн. копий\n",
        "\n",
        "### Критерии оценки\n",
        "\n",
        "**\"Зачет\"** - выполнены задачи 1-6, каждый график отформатирован и читаем\n",
        "\n",
        "**\"На доработку\"** - выполнены не все обязательные задачи или какой-либо из график не читаем или не подписан\n",
        "\n",
        "### Рекомендации по выполнению\n",
        "\n",
        "* Библиотеки, которые необходимы для выполнения домашнего задания, перечислены в ячейке ниже.\n",
        "* Подсказка по работе с Jupyter: если перед графиком выводится слишком много текста, поставьте ';' в конце последней строки ячейки"
      ]
    },
    {
      "cell_type": "code",
      "metadata": {
        "id": "190w8SvDEJhl"
      },
      "source": [
        "import pandas as pd\n",
        "import numpy as np\n",
        "import matplotlib.pyplot as plt"
      ],
      "execution_count": null,
      "outputs": []
    },
    {
      "cell_type": "markdown",
      "metadata": {
        "id": "LltqYsrQEJhm"
      },
      "source": [
        "### Загрузка данных"
      ]
    },
    {
      "cell_type": "code",
      "metadata": {
        "id": "WpclfOsSEJhm",
        "outputId": "3e1899bb-c00e-472f-d6f2-091079eb3c9e"
      },
      "source": [
        "df = pd.read_csv('vgsales.csv')\n",
        "df.head()"
      ],
      "execution_count": null,
      "outputs": [
        {
          "output_type": "execute_result",
          "data": {
            "text/html": [
              "<div>\n",
              "<style scoped>\n",
              "    .dataframe tbody tr th:only-of-type {\n",
              "        vertical-align: middle;\n",
              "    }\n",
              "\n",
              "    .dataframe tbody tr th {\n",
              "        vertical-align: top;\n",
              "    }\n",
              "\n",
              "    .dataframe thead th {\n",
              "        text-align: right;\n",
              "    }\n",
              "</style>\n",
              "<table border=\"1\" class=\"dataframe\">\n",
              "  <thead>\n",
              "    <tr style=\"text-align: right;\">\n",
              "      <th></th>\n",
              "      <th>Rank</th>\n",
              "      <th>Name</th>\n",
              "      <th>Platform</th>\n",
              "      <th>Year</th>\n",
              "      <th>Genre</th>\n",
              "      <th>Publisher</th>\n",
              "      <th>NA_Sales</th>\n",
              "      <th>EU_Sales</th>\n",
              "      <th>JP_Sales</th>\n",
              "      <th>Other_Sales</th>\n",
              "      <th>Global_Sales</th>\n",
              "    </tr>\n",
              "  </thead>\n",
              "  <tbody>\n",
              "    <tr>\n",
              "      <th>0</th>\n",
              "      <td>1</td>\n",
              "      <td>Wii Sports</td>\n",
              "      <td>Wii</td>\n",
              "      <td>2006.0</td>\n",
              "      <td>Sports</td>\n",
              "      <td>Nintendo</td>\n",
              "      <td>41.49</td>\n",
              "      <td>29.02</td>\n",
              "      <td>3.77</td>\n",
              "      <td>8.46</td>\n",
              "      <td>82.74</td>\n",
              "    </tr>\n",
              "    <tr>\n",
              "      <th>1</th>\n",
              "      <td>2</td>\n",
              "      <td>Super Mario Bros.</td>\n",
              "      <td>NES</td>\n",
              "      <td>1985.0</td>\n",
              "      <td>Platform</td>\n",
              "      <td>Nintendo</td>\n",
              "      <td>29.08</td>\n",
              "      <td>3.58</td>\n",
              "      <td>6.81</td>\n",
              "      <td>0.77</td>\n",
              "      <td>40.24</td>\n",
              "    </tr>\n",
              "    <tr>\n",
              "      <th>2</th>\n",
              "      <td>3</td>\n",
              "      <td>Mario Kart Wii</td>\n",
              "      <td>Wii</td>\n",
              "      <td>2008.0</td>\n",
              "      <td>Racing</td>\n",
              "      <td>Nintendo</td>\n",
              "      <td>15.85</td>\n",
              "      <td>12.88</td>\n",
              "      <td>3.79</td>\n",
              "      <td>3.31</td>\n",
              "      <td>35.82</td>\n",
              "    </tr>\n",
              "    <tr>\n",
              "      <th>3</th>\n",
              "      <td>4</td>\n",
              "      <td>Wii Sports Resort</td>\n",
              "      <td>Wii</td>\n",
              "      <td>2009.0</td>\n",
              "      <td>Sports</td>\n",
              "      <td>Nintendo</td>\n",
              "      <td>15.75</td>\n",
              "      <td>11.01</td>\n",
              "      <td>3.28</td>\n",
              "      <td>2.96</td>\n",
              "      <td>33.00</td>\n",
              "    </tr>\n",
              "    <tr>\n",
              "      <th>4</th>\n",
              "      <td>5</td>\n",
              "      <td>Pokemon Red/Pokemon Blue</td>\n",
              "      <td>GB</td>\n",
              "      <td>1996.0</td>\n",
              "      <td>Role-Playing</td>\n",
              "      <td>Nintendo</td>\n",
              "      <td>11.27</td>\n",
              "      <td>8.89</td>\n",
              "      <td>10.22</td>\n",
              "      <td>1.00</td>\n",
              "      <td>31.37</td>\n",
              "    </tr>\n",
              "  </tbody>\n",
              "</table>\n",
              "</div>"
            ],
            "text/plain": [
              "   Rank                      Name Platform    Year         Genre Publisher  \\\n",
              "0     1                Wii Sports      Wii  2006.0        Sports  Nintendo   \n",
              "1     2         Super Mario Bros.      NES  1985.0      Platform  Nintendo   \n",
              "2     3            Mario Kart Wii      Wii  2008.0        Racing  Nintendo   \n",
              "3     4         Wii Sports Resort      Wii  2009.0        Sports  Nintendo   \n",
              "4     5  Pokemon Red/Pokemon Blue       GB  1996.0  Role-Playing  Nintendo   \n",
              "\n",
              "   NA_Sales  EU_Sales  JP_Sales  Other_Sales  Global_Sales  \n",
              "0     41.49     29.02      3.77         8.46         82.74  \n",
              "1     29.08      3.58      6.81         0.77         40.24  \n",
              "2     15.85     12.88      3.79         3.31         35.82  \n",
              "3     15.75     11.01      3.28         2.96         33.00  \n",
              "4     11.27      8.89     10.22         1.00         31.37  "
            ]
          },
          "metadata": {
            "tags": []
          },
          "execution_count": 2
        }
      ]
    },
    {
      "cell_type": "markdown",
      "metadata": {
        "id": "cHVmo15GEJhn"
      },
      "source": [
        "### Задача 1\n",
        "\n",
        "Постройте линейный график динамики объема продаж всех игр жанра \"Sports\" в Японии. Задайте графику размер 12 на 6"
      ]
    },
    {
      "cell_type": "code",
      "metadata": {
        "id": "Y9kGwfmHEJhn"
      },
      "source": [
        "### YOUR CODE HERE ###\n"
      ],
      "execution_count": null,
      "outputs": []
    },
    {
      "cell_type": "markdown",
      "metadata": {
        "id": "ThaBXmxHEJho"
      },
      "source": [
        "### Задача 2\n",
        "\n",
        "В одних координатных осях постройте линейные графики динамики продаж студии \"Activision\" в Северной Америке, Европе, Японии и всем мире"
      ]
    },
    {
      "cell_type": "code",
      "metadata": {
        "id": "GGszOKmkEJho"
      },
      "source": [
        "### YOUR CODE HERE ###\n"
      ],
      "execution_count": null,
      "outputs": []
    },
    {
      "cell_type": "markdown",
      "metadata": {
        "id": "K86rBMJgEJho"
      },
      "source": [
        "### Задача 3\n",
        "\n",
        "В цикле (т.е. на разных координатных осях) постройте линейные графики динамики продаж студии \"Activision\" в Северной Америке, Европе, Японии и всем мире"
      ]
    },
    {
      "cell_type": "code",
      "metadata": {
        "id": "g6QDDlQOEJhp"
      },
      "source": [
        "### YOUR CODE HERE ###\n"
      ],
      "execution_count": null,
      "outputs": []
    },
    {
      "cell_type": "markdown",
      "metadata": {
        "id": "NFCIIzkwEJhp"
      },
      "source": [
        "### Задача 4\n",
        "\n",
        "Постройте такие же линейные графики динамики продаж студии \"Activision\" в Северной Америке, Европе, Японии и всем мире на одном полотне в сетке 2 на 2 графика. Итоговое полотно сделайте размером 12 на 12. Все графики должны разделять оси X и Y"
      ]
    },
    {
      "cell_type": "code",
      "metadata": {
        "id": "GpP0E-NpEJhp"
      },
      "source": [
        "### YOUR CODE HERE ###\n"
      ],
      "execution_count": null,
      "outputs": []
    },
    {
      "cell_type": "markdown",
      "metadata": {
        "id": "Ff-3Awb1EJhp"
      },
      "source": [
        "### Задача 5\n",
        "\n",
        "В одной координатной сетке постройте 2 гистограммы распределения мировых продаж игр издателей \"Microsoft Game Studios\" и \"Take-Two Interactive\" после 2010 года (включая 2010 год). Графики сделайте полупрозрачными, отсечки должны быть общими и соответствовать ширине столбцов обоих графиков"
      ]
    },
    {
      "cell_type": "code",
      "metadata": {
        "id": "JOVd8GvEEJhq"
      },
      "source": [
        "### YOUR CODE HERE ###\n"
      ],
      "execution_count": null,
      "outputs": []
    },
    {
      "cell_type": "markdown",
      "metadata": {
        "id": "VEz1xldgEJhq"
      },
      "source": [
        "### Задача 6\n",
        "\n",
        "Определите 5 платформ, для которых в Японии было продано больше всего игр за все время. Проиллюстрируйте величину продаж на столбчатой диаграмме, столбец с самым высоким значением окрасьте зеленым, а с самым низким - красным"
      ]
    },
    {
      "cell_type": "code",
      "metadata": {
        "id": "mSC093PNEJhq"
      },
      "source": [
        "### YOUR CODE HERE ###\n"
      ],
      "execution_count": null,
      "outputs": []
    },
    {
      "cell_type": "markdown",
      "metadata": {
        "id": "yspvGK5YEJhq"
      },
      "source": [
        "## Дополнительные (необязательные) задачи\n",
        "\n",
        "\n",
        "### Задача 7\n",
        "\n",
        "Постройте линейный график динамики количества игр, выпускаемых Nintendo, по годам. С помощью numpy или pandas определите промежуток, в который издатель каждый год выпускал больше 35 игр, и подсветите этот промежуток времени с помощью зеленого полупрозрачного прямоугольника"
      ]
    },
    {
      "cell_type": "code",
      "metadata": {
        "id": "riIb9ZjZEJhq"
      },
      "source": [
        "### YOUR CODE HERE ###\n"
      ],
      "execution_count": null,
      "outputs": []
    },
    {
      "cell_type": "markdown",
      "metadata": {
        "id": "Km6I2p2PEJhr"
      },
      "source": [
        "### Задача 8\n",
        "\n",
        "Определите 3 жанра и 4 издателя с самыми большими продажами игр в мире за все время. Постройте сетку графиков 4 на 3, в каждой ячейке постройте точечный график, проверяющий зависимость общемировых продаж от продаж в Северной Америке для каждой пары (жанр, издатель). Размер итогового полотна определите самостоятельно таким образом, чтобы все графики были видны"
      ]
    },
    {
      "cell_type": "code",
      "metadata": {
        "id": "ZXlfXlROEJhr"
      },
      "source": [
        "### YOUR CODE HERE ###\n"
      ],
      "execution_count": null,
      "outputs": []
    }
  ]
}