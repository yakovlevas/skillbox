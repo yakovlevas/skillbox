{
  "nbformat": 4,
  "nbformat_minor": 0,
  "metadata": {
    "kernelspec": {
      "display_name": "Python 3",
      "language": "python",
      "name": "python3"
    },
    "language_info": {
      "codemirror_mode": {
        "name": "ipython",
        "version": 3
      },
      "file_extension": ".py",
      "mimetype": "text/x-python",
      "name": "python",
      "nbconvert_exporter": "python",
      "pygments_lexer": "ipython3",
      "version": "3.7.4"
    },
    "colab": {
      "name": "matplotlib-lesson-3.ipynb",
      "provenance": [],
      "collapsed_sections": []
    }
  },
  "cells": [
    {
      "cell_type": "markdown",
      "metadata": {
        "id": "OsFRMIddPJWB"
      },
      "source": [
        "# Основы визуализации данных с помощью Matplotlib\n",
        "\n",
        "## Урок 3. Детали графика"
      ]
    },
    {
      "cell_type": "code",
      "metadata": {
        "id": "ktj5Wt0-Bb8i"
      },
      "source": [
        "import pandas as pd\n",
        "import matplotlib.pyplot as plt"
      ],
      "execution_count": null,
      "outputs": []
    },
    {
      "cell_type": "markdown",
      "metadata": {
        "id": "DPZvN5SaBb8j"
      },
      "source": [
        "### Разбор практического задания"
      ]
    },
    {
      "cell_type": "code",
      "metadata": {
        "id": "UGRfOwgBBb8k",
        "outputId": "f64c3ee7-cab8-4d35-c79e-07f699bb0900"
      },
      "source": [
        "df = pd.read_csv('wage-data.csv')\n",
        "df.head()"
      ],
      "execution_count": null,
      "outputs": [
        {
          "output_type": "execute_result",
          "data": {
            "text/html": [
              "<div>\n",
              "<style scoped>\n",
              "    .dataframe tbody tr th:only-of-type {\n",
              "        vertical-align: middle;\n",
              "    }\n",
              "\n",
              "    .dataframe tbody tr th {\n",
              "        vertical-align: top;\n",
              "    }\n",
              "\n",
              "    .dataframe thead th {\n",
              "        text-align: right;\n",
              "    }\n",
              "</style>\n",
              "<table border=\"1\" class=\"dataframe\">\n",
              "  <thead>\n",
              "    <tr style=\"text-align: right;\">\n",
              "      <th></th>\n",
              "      <th>Year</th>\n",
              "      <th>State</th>\n",
              "      <th>Salary</th>\n",
              "    </tr>\n",
              "  </thead>\n",
              "  <tbody>\n",
              "    <tr>\n",
              "      <th>0</th>\n",
              "      <td>1968</td>\n",
              "      <td>Alabama</td>\n",
              "      <td>0.00000</td>\n",
              "    </tr>\n",
              "    <tr>\n",
              "      <th>1</th>\n",
              "      <td>1968</td>\n",
              "      <td>Alaska</td>\n",
              "      <td>2.10000</td>\n",
              "    </tr>\n",
              "    <tr>\n",
              "      <th>2</th>\n",
              "      <td>1968</td>\n",
              "      <td>Arizona</td>\n",
              "      <td>0.66000</td>\n",
              "    </tr>\n",
              "    <tr>\n",
              "      <th>3</th>\n",
              "      <td>1968</td>\n",
              "      <td>Arkansas</td>\n",
              "      <td>0.15625</td>\n",
              "    </tr>\n",
              "    <tr>\n",
              "      <th>4</th>\n",
              "      <td>1968</td>\n",
              "      <td>California</td>\n",
              "      <td>1.65000</td>\n",
              "    </tr>\n",
              "  </tbody>\n",
              "</table>\n",
              "</div>"
            ],
            "text/plain": [
              "   Year       State   Salary\n",
              "0  1968     Alabama  0.00000\n",
              "1  1968      Alaska  2.10000\n",
              "2  1968     Arizona  0.66000\n",
              "3  1968    Arkansas  0.15625\n",
              "4  1968  California  1.65000"
            ]
          },
          "metadata": {
            "tags": []
          },
          "execution_count": 2
        }
      ]
    },
    {
      "cell_type": "code",
      "metadata": {
        "scrolled": false,
        "id": "EeOwxkKCBb8k",
        "outputId": "4833d5fc-21e9-442c-d202-716bc019fe06"
      },
      "source": [
        "series = df.groupby('Year')['Salary'].mean()\n",
        "series"
      ],
      "execution_count": null,
      "outputs": [
        {
          "output_type": "execute_result",
          "data": {
            "text/plain": [
              "Year\n",
              "1968    0.918819\n",
              "1969    0.918819\n",
              "1970    1.015000\n",
              "1971    1.015000\n",
              "1972    1.213148\n",
              "1973    1.213148\n",
              "1974    1.213148\n",
              "1975    1.213148\n",
              "1976    1.655741\n",
              "1977    1.655741\n",
              "1978    1.655741\n",
              "1979    2.026182\n",
              "1980    2.165818\n",
              "1981    2.321273\n",
              "1982    2.321273\n",
              "1983    2.321273\n",
              "1984    2.321273\n",
              "1985    2.321273\n",
              "1986    2.321273\n",
              "1987    2.321273\n",
              "1988    2.668182\n",
              "1989    2.668182\n",
              "1990    2.668182\n",
              "1991    3.258182\n",
              "1992    3.530364\n",
              "1993    3.530364\n",
              "1994    3.611273\n",
              "1995    3.611273\n",
              "1996    3.675818\n",
              "1997    3.928545\n",
              "1998    4.245091\n",
              "1999    4.245091\n",
              "2000    4.410909\n",
              "2001    4.485818\n",
              "2002    4.655455\n",
              "2003    4.713818\n",
              "2004    4.765636\n",
              "2005    4.820909\n",
              "2006    5.036000\n",
              "2007    5.574182\n",
              "2008    5.923455\n",
              "2009    6.210000\n",
              "2010    6.642727\n",
              "2011    6.673273\n",
              "2012    6.720182\n",
              "2013    6.749273\n",
              "2014    6.913273\n",
              "2015    7.186000\n",
              "2016    7.381091\n",
              "2017    7.575273\n",
              "Name: Salary, dtype: float64"
            ]
          },
          "metadata": {
            "tags": []
          },
          "execution_count": 3
        }
      ]
    },
    {
      "cell_type": "code",
      "metadata": {
        "id": "Nc1gQD-pBb8l",
        "outputId": "a2c5ccae-1456-47a7-bd77-a9fa0364e8da"
      },
      "source": [
        "plt.plot(series)"
      ],
      "execution_count": null,
      "outputs": [
        {
          "output_type": "execute_result",
          "data": {
            "text/plain": [
              "[<matplotlib.lines.Line2D at 0x1ce16f10848>]"
            ]
          },
          "metadata": {
            "tags": []
          },
          "execution_count": 4
        },
        {
          "output_type": "display_data",
          "data": {
            "image/png": "[encoded data removed]",
            "text/plain": [
              "<Figure size 432x288 with 1 Axes>"
            ]
          },
          "metadata": {
            "tags": [],
            "needs_background": "light"
          }
        }
      ]
    },
    {
      "cell_type": "markdown",
      "metadata": {
        "id": "90d7nZArBb8l"
      },
      "source": [
        "### Детали графиков"
      ]
    },
    {
      "cell_type": "code",
      "metadata": {
        "id": "yF-Hx_30Bb8l",
        "outputId": "15fe7d0f-85b9-423f-937d-0015aca73be8"
      },
      "source": [
        "series1 = df[df['State'] == 'California'].set_index('Year')['Salary']\n",
        "plt.plot(series1)"
      ],
      "execution_count": null,
      "outputs": [
        {
          "output_type": "execute_result",
          "data": {
            "text/plain": [
              "[<matplotlib.lines.Line2D at 0x1ce16f836c8>]"
            ]
          },
          "metadata": {
            "tags": []
          },
          "execution_count": 5
        },
        {
          "output_type": "display_data",
          "data": {
            "image/png": "[encoded data removed]",
            "text/plain": [
              "<Figure size 432x288 with 1 Axes>"
            ]
          },
          "metadata": {
            "tags": [],
            "needs_background": "light"
          }
        }
      ]
    },
    {
      "cell_type": "code",
      "metadata": {
        "id": "6sdhYo-JBb8m",
        "outputId": "207edc8c-6d10-4ef8-e670-b587fb9ca2a8"
      },
      "source": [
        "plt.plot(series1)\n",
        "\n",
        "plt.title(\"Динамика минимальной зарплаты в Калифорнии по годам\")\n",
        "plt.xlabel('Год')\n",
        "plt.ylabel('Минимальная зарплата, $/час')"
      ],
      "execution_count": null,
      "outputs": [
        {
          "output_type": "execute_result",
          "data": {
            "text/plain": [
              "Text(0, 0.5, 'Минимальная зарплата, $/час')"
            ]
          },
          "metadata": {
            "tags": []
          },
          "execution_count": 6
        },
        {
          "output_type": "display_data",
          "data": {
            "image/png": "[encoded data removed]",
            "text/plain": [
              "<Figure size 432x288 with 1 Axes>"
            ]
          },
          "metadata": {
            "tags": [],
            "needs_background": "light"
          }
        }
      ]
    },
    {
      "cell_type": "code",
      "metadata": {
        "id": "_wIX3rdXBb8m",
        "outputId": "ee262db9-a6ab-465e-c6a8-ebb9426f4ac4"
      },
      "source": [
        "series1.index.min()"
      ],
      "execution_count": null,
      "outputs": [
        {
          "output_type": "execute_result",
          "data": {
            "text/plain": [
              "1968"
            ]
          },
          "metadata": {
            "tags": []
          },
          "execution_count": 7
        }
      ]
    },
    {
      "cell_type": "code",
      "metadata": {
        "id": "5_s1uzX7Bb8m",
        "outputId": "8ed9a3a2-5ce0-4293-ffc4-509917bb7f86"
      },
      "source": [
        "series1.index.max()"
      ],
      "execution_count": null,
      "outputs": [
        {
          "output_type": "execute_result",
          "data": {
            "text/plain": [
              "2017"
            ]
          },
          "metadata": {
            "tags": []
          },
          "execution_count": 8
        }
      ]
    },
    {
      "cell_type": "code",
      "metadata": {
        "id": "3wsIXAwNBb8n",
        "outputId": "7e902ba9-755d-41c7-e6bb-4461dc61c2b0"
      },
      "source": [
        "x_range = list(range(series1.index.min(), series1.index.max()+1, 10))\n",
        "x_range"
      ],
      "execution_count": null,
      "outputs": [
        {
          "output_type": "execute_result",
          "data": {
            "text/plain": [
              "[1968, 1978, 1988, 1998, 2008]"
            ]
          },
          "metadata": {
            "tags": []
          },
          "execution_count": 9
        }
      ]
    },
    {
      "cell_type": "code",
      "metadata": {
        "id": "QA1LGSGLBb8n",
        "outputId": "8e12bc86-9404-489d-b283-eaef82054ef4"
      },
      "source": [
        "x_range.append(series1.index.max())\n",
        "x_range"
      ],
      "execution_count": null,
      "outputs": [
        {
          "output_type": "execute_result",
          "data": {
            "text/plain": [
              "[1968, 1978, 1988, 1998, 2008, 2017]"
            ]
          },
          "metadata": {
            "tags": []
          },
          "execution_count": 10
        }
      ]
    },
    {
      "cell_type": "code",
      "metadata": {
        "id": "xwGOw4FIBb8n",
        "outputId": "94e5ea5b-f789-4ec7-8ac6-7405e3168948"
      },
      "source": [
        "plt.plot(series1)\n",
        "plt.title(\"Динамика минимальной зарплаты в Калифорнии по годам\")\n",
        "plt.xlabel('Год')\n",
        "plt.ylabel('Минимальная зарплата, $/час')\n",
        "plt.xticks(x_range)"
      ],
      "execution_count": null,
      "outputs": [
        {
          "output_type": "execute_result",
          "data": {
            "text/plain": [
              "([<matplotlib.axis.XTick at 0x1ce1701a908>,\n",
              "  <matplotlib.axis.XTick at 0x1ce170bb9c8>,\n",
              "  <matplotlib.axis.XTick at 0x1ce170bd688>,\n",
              "  <matplotlib.axis.XTick at 0x1ce170ff408>,\n",
              "  <matplotlib.axis.XTick at 0x1ce171021c8>,\n",
              "  <matplotlib.axis.XTick at 0x1ce17102dc8>],\n",
              " [Text(0, 0, ''),\n",
              "  Text(0, 0, ''),\n",
              "  Text(0, 0, ''),\n",
              "  Text(0, 0, ''),\n",
              "  Text(0, 0, ''),\n",
              "  Text(0, 0, '')])"
            ]
          },
          "metadata": {
            "tags": []
          },
          "execution_count": 11
        },
        {
          "output_type": "display_data",
          "data": {
            "image/png": "[encoded data removed]",
            "text/plain": [
              "<Figure size 432x288 with 1 Axes>"
            ]
          },
          "metadata": {
            "tags": [],
            "needs_background": "light"
          }
        }
      ]
    },
    {
      "cell_type": "code",
      "metadata": {
        "id": "AYIBz7V-Bb8n",
        "outputId": "789bb199-675e-43cc-db8d-1d6f91436fc7"
      },
      "source": [
        "plt.plot(series1)\n",
        "plt.title(\"Динамика минимальной зарплаты в Калифорнии по годам\")\n",
        "plt.xlabel('Год')\n",
        "plt.ylabel('Минимальная зарплата, $/час')\n",
        "plt.xticks(x_range, rotation=45)"
      ],
      "execution_count": null,
      "outputs": [
        {
          "output_type": "execute_result",
          "data": {
            "text/plain": [
              "([<matplotlib.axis.XTick at 0x1ce17131048>,\n",
              "  <matplotlib.axis.XTick at 0x1ce17132148>,\n",
              "  <matplotlib.axis.XTick at 0x1ce171268c8>,\n",
              "  <matplotlib.axis.XTick at 0x1ce170aa688>,\n",
              "  <matplotlib.axis.XTick at 0x1ce170c3288>,\n",
              "  <matplotlib.axis.XTick at 0x1ce17132748>],\n",
              " [Text(0, 0, ''),\n",
              "  Text(0, 0, ''),\n",
              "  Text(0, 0, ''),\n",
              "  Text(0, 0, ''),\n",
              "  Text(0, 0, ''),\n",
              "  Text(0, 0, '')])"
            ]
          },
          "metadata": {
            "tags": []
          },
          "execution_count": 12
        },
        {
          "output_type": "display_data",
          "data": {
            "image/png": "[encoded data removed]",
            "text/plain": [
              "<Figure size 432x288 with 1 Axes>"
            ]
          },
          "metadata": {
            "tags": [],
            "needs_background": "light"
          }
        }
      ]
    },
    {
      "cell_type": "code",
      "metadata": {
        "id": "AnUkvRVLBb8o"
      },
      "source": [
        ""
      ],
      "execution_count": null,
      "outputs": []
    }
  ]
}