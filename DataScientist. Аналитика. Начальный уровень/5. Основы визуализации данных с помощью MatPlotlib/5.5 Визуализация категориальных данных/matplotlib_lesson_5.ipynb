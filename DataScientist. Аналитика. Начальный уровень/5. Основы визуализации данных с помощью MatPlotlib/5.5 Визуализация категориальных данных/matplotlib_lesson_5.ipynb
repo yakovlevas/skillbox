{
  "nbformat": 4,
  "nbformat_minor": 0,
  "metadata": {
    "kernelspec": {
      "display_name": "Python 3",
      "language": "python",
      "name": "python3"
    },
    "language_info": {
      "codemirror_mode": {
        "name": "ipython",
        "version": 3
      },
      "file_extension": ".py",
      "mimetype": "text/x-python",
      "name": "python",
      "nbconvert_exporter": "python",
      "pygments_lexer": "ipython3",
      "version": "3.7.4"
    },
    "colab": {
      "name": "matplotlib-lesson-5.ipynb",
      "provenance": []
    }
  },
  "cells": [
    {
      "cell_type": "markdown",
      "metadata": {
        "id": "iROKcBEpP0Q6"
      },
      "source": [
        "# Основы визуализации данных с помощью matplotlib\n",
        "\n",
        "## Урок 5. Визуализация категориальных данных"
      ]
    },
    {
      "cell_type": "code",
      "metadata": {
        "id": "YYVWkAe6Dkb8"
      },
      "source": [
        "import pandas as pd\n",
        "import numpy as npa\n",
        "import matplotlib.pyplot as plt"
      ],
      "execution_count": null,
      "outputs": []
    },
    {
      "cell_type": "markdown",
      "metadata": {
        "id": "IDmjuRoSDkb-"
      },
      "source": [
        "### Разбор практического задания"
      ]
    },
    {
      "cell_type": "code",
      "metadata": {
        "id": "suK_rENTDkb-",
        "outputId": "188b54b8-82c6-47b8-a197-7df3c5eb379a"
      },
      "source": [
        "df = pd.read_csv('wage-data-coast.csv')\n",
        "df"
      ],
      "execution_count": null,
      "outputs": [
        {
          "output_type": "execute_result",
          "data": {
            "text/html": [
              "<div>\n",
              "<style scoped>\n",
              "    .dataframe tbody tr th:only-of-type {\n",
              "        vertical-align: middle;\n",
              "    }\n",
              "\n",
              "    .dataframe tbody tr th {\n",
              "        vertical-align: top;\n",
              "    }\n",
              "\n",
              "    .dataframe thead th {\n",
              "        text-align: right;\n",
              "    }\n",
              "</style>\n",
              "<table border=\"1\" class=\"dataframe\">\n",
              "  <thead>\n",
              "    <tr style=\"text-align: right;\">\n",
              "      <th></th>\n",
              "      <th>Year</th>\n",
              "      <th>State</th>\n",
              "      <th>Salary</th>\n",
              "      <th>IsCoastal</th>\n",
              "    </tr>\n",
              "  </thead>\n",
              "  <tbody>\n",
              "    <tr>\n",
              "      <th>0</th>\n",
              "      <td>1968</td>\n",
              "      <td>Alabama</td>\n",
              "      <td>0.00000</td>\n",
              "      <td>0</td>\n",
              "    </tr>\n",
              "    <tr>\n",
              "      <th>1</th>\n",
              "      <td>1968</td>\n",
              "      <td>Alaska</td>\n",
              "      <td>2.10000</td>\n",
              "      <td>1</td>\n",
              "    </tr>\n",
              "    <tr>\n",
              "      <th>2</th>\n",
              "      <td>1968</td>\n",
              "      <td>Arizona</td>\n",
              "      <td>0.66000</td>\n",
              "      <td>0</td>\n",
              "    </tr>\n",
              "    <tr>\n",
              "      <th>3</th>\n",
              "      <td>1968</td>\n",
              "      <td>Arkansas</td>\n",
              "      <td>0.15625</td>\n",
              "      <td>0</td>\n",
              "    </tr>\n",
              "    <tr>\n",
              "      <th>4</th>\n",
              "      <td>1968</td>\n",
              "      <td>California</td>\n",
              "      <td>1.65000</td>\n",
              "      <td>1</td>\n",
              "    </tr>\n",
              "    <tr>\n",
              "      <th>...</th>\n",
              "      <td>...</td>\n",
              "      <td>...</td>\n",
              "      <td>...</td>\n",
              "      <td>...</td>\n",
              "    </tr>\n",
              "    <tr>\n",
              "      <th>2745</th>\n",
              "      <td>2017</td>\n",
              "      <td>Virginia</td>\n",
              "      <td>7.25000</td>\n",
              "      <td>1</td>\n",
              "    </tr>\n",
              "    <tr>\n",
              "      <th>2746</th>\n",
              "      <td>2017</td>\n",
              "      <td>Washington</td>\n",
              "      <td>11.00000</td>\n",
              "      <td>1</td>\n",
              "    </tr>\n",
              "    <tr>\n",
              "      <th>2747</th>\n",
              "      <td>2017</td>\n",
              "      <td>West Virginia</td>\n",
              "      <td>8.75000</td>\n",
              "      <td>0</td>\n",
              "    </tr>\n",
              "    <tr>\n",
              "      <th>2748</th>\n",
              "      <td>2017</td>\n",
              "      <td>Wisconsin</td>\n",
              "      <td>7.25000</td>\n",
              "      <td>0</td>\n",
              "    </tr>\n",
              "    <tr>\n",
              "      <th>2749</th>\n",
              "      <td>2017</td>\n",
              "      <td>Wyoming</td>\n",
              "      <td>5.15000</td>\n",
              "      <td>0</td>\n",
              "    </tr>\n",
              "  </tbody>\n",
              "</table>\n",
              "<p>2750 rows × 4 columns</p>\n",
              "</div>"
            ],
            "text/plain": [
              "      Year          State    Salary  IsCoastal\n",
              "0     1968        Alabama   0.00000          0\n",
              "1     1968         Alaska   2.10000          1\n",
              "2     1968        Arizona   0.66000          0\n",
              "3     1968       Arkansas   0.15625          0\n",
              "4     1968     California   1.65000          1\n",
              "...    ...            ...       ...        ...\n",
              "2745  2017       Virginia   7.25000          1\n",
              "2746  2017     Washington  11.00000          1\n",
              "2747  2017  West Virginia   8.75000          0\n",
              "2748  2017      Wisconsin   7.25000          0\n",
              "2749  2017        Wyoming   5.15000          0\n",
              "\n",
              "[2750 rows x 4 columns]"
            ]
          },
          "metadata": {
            "tags": []
          },
          "execution_count": 2
        }
      ]
    },
    {
      "cell_type": "code",
      "metadata": {
        "scrolled": false,
        "id": "sn2BhAvQDkb_",
        "outputId": "cd72bd24-9f92-464c-a0bd-60378e82a7bd"
      },
      "source": [
        "serie = df[(df['Year'] == 2000) & (df['IsCoastal'] == 1)]['Salary']\n",
        "\n",
        "plt.hist(serie)\n",
        "plt.title(\"Минимальная зарплата в прибрежных штатах в 2000 году\")\n",
        "plt.xlabel('$/час')\n",
        "plt.ylabel('# штатов')\n",
        "\n",
        "bin_width = serie.max() / 10\n",
        "x_range = [i*bin_width for i in range(11)]\n",
        "\n",
        "plt.xticks(x_range)"
      ],
      "execution_count": null,
      "outputs": [
        {
          "output_type": "execute_result",
          "data": {
            "text/plain": [
              "([<matplotlib.axis.XTick at 0x12f237c46c8>,\n",
              "  <matplotlib.axis.XTick at 0x12f2367b8c8>,\n",
              "  <matplotlib.axis.XTick at 0x12f232116c8>,\n",
              "  <matplotlib.axis.XTick at 0x12f2398dd48>,\n",
              "  <matplotlib.axis.XTick at 0x12f239925c8>,\n",
              "  <matplotlib.axis.XTick at 0x12f23992d88>,\n",
              "  <matplotlib.axis.XTick at 0x12f23997a08>,\n",
              "  <matplotlib.axis.XTick at 0x12f23997148>,\n",
              "  <matplotlib.axis.XTick at 0x12f2399ba08>,\n",
              "  <matplotlib.axis.XTick at 0x12f2399e408>,\n",
              "  <matplotlib.axis.XTick at 0x12f2399efc8>],\n",
              " [Text(0, 0, ''),\n",
              "  Text(0, 0, ''),\n",
              "  Text(0, 0, ''),\n",
              "  Text(0, 0, ''),\n",
              "  Text(0, 0, ''),\n",
              "  Text(0, 0, ''),\n",
              "  Text(0, 0, ''),\n",
              "  Text(0, 0, ''),\n",
              "  Text(0, 0, ''),\n",
              "  Text(0, 0, ''),\n",
              "  Text(0, 0, '')])"
            ]
          },
          "metadata": {
            "tags": []
          },
          "execution_count": 7
        },
        {
          "output_type": "display_data",
          "data": {
            "image/png": "[encoded data removed]",
            "text/plain": [
              "<Figure size 432x288 with 1 Axes>"
            ]
          },
          "metadata": {
            "tags": [],
            "needs_background": "light"
          }
        }
      ]
    },
    {
      "cell_type": "markdown",
      "metadata": {
        "id": "jaW53KQUDkb_"
      },
      "source": [
        "Визуализация категориальных данных"
      ]
    },
    {
      "cell_type": "code",
      "metadata": {
        "id": "5Wmg1WtrDkcA",
        "outputId": "f241faae-e4a9-4869-b42a-96729accf03b"
      },
      "source": [
        "df1 = df[(df['Year'] == 2015)].groupby('IsCoastal')['Salary'].mean().sort_values(ascending=False).reset_index()\n",
        "df1"
      ],
      "execution_count": null,
      "outputs": [
        {
          "output_type": "execute_result",
          "data": {
            "text/html": [
              "<div>\n",
              "<style scoped>\n",
              "    .dataframe tbody tr th:only-of-type {\n",
              "        vertical-align: middle;\n",
              "    }\n",
              "\n",
              "    .dataframe tbody tr th {\n",
              "        vertical-align: top;\n",
              "    }\n",
              "\n",
              "    .dataframe thead th {\n",
              "        text-align: right;\n",
              "    }\n",
              "</style>\n",
              "<table border=\"1\" class=\"dataframe\">\n",
              "  <thead>\n",
              "    <tr style=\"text-align: right;\">\n",
              "      <th></th>\n",
              "      <th>IsCoastal</th>\n",
              "      <th>Salary</th>\n",
              "    </tr>\n",
              "  </thead>\n",
              "  <tbody>\n",
              "    <tr>\n",
              "      <th>0</th>\n",
              "      <td>1</td>\n",
              "      <td>7.760526</td>\n",
              "    </tr>\n",
              "    <tr>\n",
              "      <th>1</th>\n",
              "      <td>0</td>\n",
              "      <td>6.882778</td>\n",
              "    </tr>\n",
              "  </tbody>\n",
              "</table>\n",
              "</div>"
            ],
            "text/plain": [
              "   IsCoastal    Salary\n",
              "0          1  7.760526\n",
              "1          0  6.882778"
            ]
          },
          "metadata": {
            "tags": []
          },
          "execution_count": 27
        }
      ]
    },
    {
      "cell_type": "code",
      "metadata": {
        "id": "oDV5pYHTDkcA",
        "outputId": "44eab0d6-6da9-4361-e10b-37b02a93259a"
      },
      "source": [
        "df1['IsCoastalStr'] = np.where(df1['IsCoastal'] == 1, 'Coastal', 'Not Coastal')\n",
        "df1"
      ],
      "execution_count": null,
      "outputs": [
        {
          "output_type": "execute_result",
          "data": {
            "text/html": [
              "<div>\n",
              "<style scoped>\n",
              "    .dataframe tbody tr th:only-of-type {\n",
              "        vertical-align: middle;\n",
              "    }\n",
              "\n",
              "    .dataframe tbody tr th {\n",
              "        vertical-align: top;\n",
              "    }\n",
              "\n",
              "    .dataframe thead th {\n",
              "        text-align: right;\n",
              "    }\n",
              "</style>\n",
              "<table border=\"1\" class=\"dataframe\">\n",
              "  <thead>\n",
              "    <tr style=\"text-align: right;\">\n",
              "      <th></th>\n",
              "      <th>IsCoastal</th>\n",
              "      <th>Salary</th>\n",
              "      <th>IsCoastalStr</th>\n",
              "    </tr>\n",
              "  </thead>\n",
              "  <tbody>\n",
              "    <tr>\n",
              "      <th>0</th>\n",
              "      <td>1</td>\n",
              "      <td>7.760526</td>\n",
              "      <td>Coastal</td>\n",
              "    </tr>\n",
              "    <tr>\n",
              "      <th>1</th>\n",
              "      <td>0</td>\n",
              "      <td>6.882778</td>\n",
              "      <td>Not Coastal</td>\n",
              "    </tr>\n",
              "  </tbody>\n",
              "</table>\n",
              "</div>"
            ],
            "text/plain": [
              "   IsCoastal    Salary IsCoastalStr\n",
              "0          1  7.760526      Coastal\n",
              "1          0  6.882778  Not Coastal"
            ]
          },
          "metadata": {
            "tags": []
          },
          "execution_count": 29
        }
      ]
    },
    {
      "cell_type": "code",
      "metadata": {
        "id": "cnmWqhIdDkcA",
        "outputId": "5f39a368-d364-4e33-95fc-0a8db7c7cb0a"
      },
      "source": [
        "plt.bar(df1['IsCoastalStr'], df1['Salary'])\n",
        "plt.title(\"Среднее значение минимальной зарплаты в прибрежных и неприбрежных штатах в 2015 году\")\n",
        "plt.ylabel('$/час')\n",
        "plt.xlabel('Тип штата')"
      ],
      "execution_count": null,
      "outputs": [
        {
          "output_type": "execute_result",
          "data": {
            "text/plain": [
              "Text(0.5, 0, 'Тип штата')"
            ]
          },
          "metadata": {
            "tags": []
          },
          "execution_count": 31
        },
        {
          "output_type": "display_data",
          "data": {
            "image/png": "[encoded data removed]",
            "text/plain": [
              "<Figure size 432x288 with 1 Axes>"
            ]
          },
          "metadata": {
            "tags": [],
            "needs_background": "light"
          }
        }
      ]
    },
    {
      "cell_type": "code",
      "metadata": {
        "id": "a5kmEWDsDkcB",
        "outputId": "a1d0da92-8b86-4e12-be20-7055937f2c33"
      },
      "source": [
        "df2 = df[df['Year'] == 2017].groupby('Salary')['State'].count().reset_index().sort_values('Salary')\n",
        "plt.bar(df2['Salary'], df2['State'])\n",
        "plt.title(\"Распределение зарплаты по штатам в 2017 году\")\n",
        "plt.xlabel('$/час')\n",
        "plt.ylabel('# штатов')"
      ],
      "execution_count": null,
      "outputs": [
        {
          "output_type": "execute_result",
          "data": {
            "text/plain": [
              "Text(0, 0.5, '# штатов')"
            ]
          },
          "metadata": {
            "tags": []
          },
          "execution_count": 47
        },
        {
          "output_type": "display_data",
          "data": {
            "image/png": "[encoded data removed]",
            "text/plain": [
              "<Figure size 432x288 with 1 Axes>"
            ]
          },
          "metadata": {
            "tags": [],
            "needs_background": "light"
          }
        }
      ]
    },
    {
      "cell_type": "code",
      "metadata": {
        "id": "ZgSJedjSDkcB",
        "outputId": "656879a1-7900-4260-ccbe-c139df2bc30b"
      },
      "source": [
        "serie = df[df['Year'] == 2017]['Salary']\n",
        "\n",
        "plt.hist(series, bins=10)\n",
        "plt.title(\"Гистограмма минимальной зарплаты в 2017 году\")\n",
        "plt.xlabel('$/час')\n",
        "plt.ylabel('# записей')\n",
        "\n",
        "bin_width = series.max() / 10\n",
        "x_range = [i*bin_width for i in range(11)]\n",
        "plt.xticks(x_range)"
      ],
      "execution_count": null,
      "outputs": [
        {
          "output_type": "execute_result",
          "data": {
            "text/plain": [
              "([<matplotlib.axis.XTick at 0x12f26421d88>,\n",
              "  <matplotlib.axis.XTick at 0x12f26423e08>,\n",
              "  <matplotlib.axis.XTick at 0x12f264233c8>,\n",
              "  <matplotlib.axis.XTick at 0x12f26471508>,\n",
              "  <matplotlib.axis.XTick at 0x12f26471d48>,\n",
              "  <matplotlib.axis.XTick at 0x12f26476588>,\n",
              "  <matplotlib.axis.XTick at 0x12f26478248>,\n",
              "  <matplotlib.axis.XTick at 0x12f26478e08>,\n",
              "  <matplotlib.axis.XTick at 0x12f2647da08>,\n",
              "  <matplotlib.axis.XTick at 0x12f26480548>,\n",
              "  <matplotlib.axis.XTick at 0x12f2646de88>],\n",
              " [Text(0, 0, ''),\n",
              "  Text(0, 0, ''),\n",
              "  Text(0, 0, ''),\n",
              "  Text(0, 0, ''),\n",
              "  Text(0, 0, ''),\n",
              "  Text(0, 0, ''),\n",
              "  Text(0, 0, ''),\n",
              "  Text(0, 0, ''),\n",
              "  Text(0, 0, ''),\n",
              "  Text(0, 0, ''),\n",
              "  Text(0, 0, '')])"
            ]
          },
          "metadata": {
            "tags": []
          },
          "execution_count": 48
        },
        {
          "output_type": "display_data",
          "data": {
            "image/png": "[encoded data removed]",
            "text/plain": [
              "<Figure size 432x288 with 1 Axes>"
            ]
          },
          "metadata": {
            "tags": [],
            "needs_background": "light"
          }
        }
      ]
    },
    {
      "cell_type": "code",
      "metadata": {
        "id": "tAjeB8sPDkcB",
        "outputId": "85ee2e11-4ebe-424b-ef7d-7aee4b65fe05"
      },
      "source": [
        "df['IsCoastalStr'] = np.where(df['IsCoastal'] == 1, 'Coastal', 'Not Coastal')\n",
        "\n",
        "serie3 = df[['State', 'IsCoastalStr']].drop_duplicates().groupby('IsCoastalStr')['State'].count()\n",
        "serie3"
      ],
      "execution_count": null,
      "outputs": [
        {
          "output_type": "execute_result",
          "data": {
            "text/plain": [
              "IsCoastalStr\n",
              "Coastal        19\n",
              "Not Coastal    36\n",
              "Name: State, dtype: int64"
            ]
          },
          "metadata": {
            "tags": []
          },
          "execution_count": 67
        }
      ]
    },
    {
      "cell_type": "code",
      "metadata": {
        "id": "DzNQVbh1DkcC",
        "outputId": "fd6dac1f-4e80-433a-8a68-7bd2dfb898e3"
      },
      "source": [
        "plt.pie(serie3, labels=serie3.index, autopct='%1.2f%%')\n",
        "plt.title(\"Соотношение количества прибрежных и неприбрежных штатов\")"
      ],
      "execution_count": null,
      "outputs": [
        {
          "output_type": "execute_result",
          "data": {
            "text/plain": [
              "Text(0.5, 1.0, 'Соотношение количества прибрежных и неприбрежных штатов')"
            ]
          },
          "metadata": {
            "tags": []
          },
          "execution_count": 72
        },
        {
          "output_type": "display_data",
          "data": {
            "image/png": "[encoded data removed]",
            "text/plain": [
              "<Figure size 432x288 with 1 Axes>"
            ]
          },
          "metadata": {
            "tags": []
          }
        }
      ]
    },
    {
      "cell_type": "code",
      "metadata": {
        "id": "-EPTnUDIDkcC"
      },
      "source": [
        ""
      ],
      "execution_count": null,
      "outputs": []
    }
  ]
}